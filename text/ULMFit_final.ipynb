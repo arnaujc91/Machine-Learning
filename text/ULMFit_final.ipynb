{
 "cells": [
  {
   "cell_type": "code",
   "execution_count": 1,
   "metadata": {
    "colab": {
     "base_uri": "https://localhost:8080/",
     "height": 52
    },
    "id": "YnH6Xmzfej3_",
    "outputId": "9072d546-a12e-42f4-ae7f-d8aa8dc0d616"
   },
   "outputs": [
    {
     "data": {
      "application/vnd.google.colaboratory.intrinsic+json": {
       "type": "string"
      },
      "text/plain": [
       "'\\nUseful links:\\nData preprocessing: https://www.kaggle.com/parthsharma5795/comprehensive-twitter-airline-sentiment-analysis\\nTrain ULMFit in IMDB: https://course.fast.ai/videos/?lesson=8\\n'"
      ]
     },
     "execution_count": 1,
     "metadata": {
      "tags": []
     },
     "output_type": "execute_result"
    }
   ],
   "source": [
    "'''\n",
    "Useful links:\n",
    "Data preprocessing: https://www.kaggle.com/parthsharma5795/comprehensive-twitter-airline-sentiment-analysis\n",
    "Train ULMFit in IMDB: https://course.fast.ai/videos/?lesson=8\n",
    "'''"
   ]
  },
  {
   "cell_type": "code",
   "execution_count": null,
   "metadata": {
    "colab": {
     "base_uri": "https://localhost:8080/"
    },
    "id": "giFFtcEeej35",
    "outputId": "04774db5-6830-476a-cdf7-51fb39cb6c28"
   },
   "outputs": [],
   "source": [
    "# If you are running the notebook in COLAB run the following lines of code\n",
    "!pip install torch==1.7.0+cu101 -f https://download.pytorch.org/whl/torch_stable.html\n",
    "!pip install fastai==2.1.4"
   ]
  },
  {
   "cell_type": "code",
   "execution_count": 3,
   "metadata": {
    "id": "C-hIT1Rjej4H"
   },
   "outputs": [],
   "source": [
    "from fastai.text.all import *\n",
    "import torch\n",
    "import re\n",
    "# import os\n",
    "# from os import listdir\n",
    "# from pathlib import Path\n",
    "import pandas as pd\n",
    "import matplotlib.pyplot as plt\n",
    "from IPython.display import display,HTML"
   ]
  },
  {
   "cell_type": "code",
   "execution_count": 4,
   "metadata": {
    "colab": {
     "base_uri": "https://localhost:8080/"
    },
    "id": "sx1-uyuP59OS",
    "outputId": "d418d131-1b65-4d17-c69d-54037994b78f"
   },
   "outputs": [
    {
     "name": "stdout",
     "output_type": "stream",
     "text": [
      "Training on GPU!\n"
     ]
    }
   ],
   "source": [
    "train_on_gpu = torch.cuda.is_available()\n",
    "if(train_on_gpu):\n",
    "    print('Training on GPU!')\n",
    "else: \n",
    "    print('No GPU available, training on CPU; consider making n_epochs very small.')"
   ]
  },
  {
   "cell_type": "code",
   "execution_count": 5,
   "metadata": {
    "id": "dGXky7atwedi"
   },
   "outputs": [],
   "source": [
    "url = 'https://raw.githubusercontent.com/arnaujc91/ULMFit/master/data/Tweets.csv'\n",
    "tweets = pd.read_csv(url)"
   ]
  },
  {
   "cell_type": "markdown",
   "metadata": {
    "id": "vKL8XVE7wT5x"
   },
   "source": [
    "## Analyse the data"
   ]
  },
  {
   "cell_type": "code",
   "execution_count": 6,
   "metadata": {
    "colab": {
     "base_uri": "https://localhost:8080/",
     "height": 632
    },
    "id": "z6KI1VBGej4L",
    "outputId": "3d41cad9-f550-48b0-a856-3a429c632042"
   },
   "outputs": [
    {
     "data": {
      "text/html": [
       "<div>\n",
       "<style scoped>\n",
       "    .dataframe tbody tr th:only-of-type {\n",
       "        vertical-align: middle;\n",
       "    }\n",
       "\n",
       "    .dataframe tbody tr th {\n",
       "        vertical-align: top;\n",
       "    }\n",
       "\n",
       "    .dataframe thead th {\n",
       "        text-align: right;\n",
       "    }\n",
       "</style>\n",
       "<table border=\"1\" class=\"dataframe\">\n",
       "  <thead>\n",
       "    <tr style=\"text-align: right;\">\n",
       "      <th></th>\n",
       "      <th>tweet_id</th>\n",
       "      <th>airline_sentiment</th>\n",
       "      <th>airline_sentiment_confidence</th>\n",
       "      <th>negativereason</th>\n",
       "      <th>negativereason_confidence</th>\n",
       "      <th>airline</th>\n",
       "      <th>airline_sentiment_gold</th>\n",
       "      <th>name</th>\n",
       "      <th>negativereason_gold</th>\n",
       "      <th>retweet_count</th>\n",
       "      <th>text</th>\n",
       "      <th>tweet_coord</th>\n",
       "      <th>tweet_created</th>\n",
       "      <th>tweet_location</th>\n",
       "      <th>user_timezone</th>\n",
       "    </tr>\n",
       "  </thead>\n",
       "  <tbody>\n",
       "    <tr>\n",
       "      <th>0</th>\n",
       "      <td>570306133677760513</td>\n",
       "      <td>neutral</td>\n",
       "      <td>1.0000</td>\n",
       "      <td>NaN</td>\n",
       "      <td>NaN</td>\n",
       "      <td>Virgin America</td>\n",
       "      <td>NaN</td>\n",
       "      <td>cairdin</td>\n",
       "      <td>NaN</td>\n",
       "      <td>0</td>\n",
       "      <td>@VirginAmerica What @dhepburn said.</td>\n",
       "      <td>NaN</td>\n",
       "      <td>2015-02-24 11:35:52 -0800</td>\n",
       "      <td>NaN</td>\n",
       "      <td>Eastern Time (US &amp; Canada)</td>\n",
       "    </tr>\n",
       "    <tr>\n",
       "      <th>1</th>\n",
       "      <td>570301130888122368</td>\n",
       "      <td>positive</td>\n",
       "      <td>0.3486</td>\n",
       "      <td>NaN</td>\n",
       "      <td>0.0000</td>\n",
       "      <td>Virgin America</td>\n",
       "      <td>NaN</td>\n",
       "      <td>jnardino</td>\n",
       "      <td>NaN</td>\n",
       "      <td>0</td>\n",
       "      <td>@VirginAmerica plus you've added commercials to the experience... tacky.</td>\n",
       "      <td>NaN</td>\n",
       "      <td>2015-02-24 11:15:59 -0800</td>\n",
       "      <td>NaN</td>\n",
       "      <td>Pacific Time (US &amp; Canada)</td>\n",
       "    </tr>\n",
       "    <tr>\n",
       "      <th>2</th>\n",
       "      <td>570301083672813571</td>\n",
       "      <td>neutral</td>\n",
       "      <td>0.6837</td>\n",
       "      <td>NaN</td>\n",
       "      <td>NaN</td>\n",
       "      <td>Virgin America</td>\n",
       "      <td>NaN</td>\n",
       "      <td>yvonnalynn</td>\n",
       "      <td>NaN</td>\n",
       "      <td>0</td>\n",
       "      <td>@VirginAmerica I didn't today... Must mean I need to take another trip!</td>\n",
       "      <td>NaN</td>\n",
       "      <td>2015-02-24 11:15:48 -0800</td>\n",
       "      <td>Lets Play</td>\n",
       "      <td>Central Time (US &amp; Canada)</td>\n",
       "    </tr>\n",
       "    <tr>\n",
       "      <th>3</th>\n",
       "      <td>570301031407624196</td>\n",
       "      <td>negative</td>\n",
       "      <td>1.0000</td>\n",
       "      <td>Bad Flight</td>\n",
       "      <td>0.7033</td>\n",
       "      <td>Virgin America</td>\n",
       "      <td>NaN</td>\n",
       "      <td>jnardino</td>\n",
       "      <td>NaN</td>\n",
       "      <td>0</td>\n",
       "      <td>@VirginAmerica it's really aggressive to blast obnoxious \"entertainment\" in your guests' faces &amp;amp; they have little recourse</td>\n",
       "      <td>NaN</td>\n",
       "      <td>2015-02-24 11:15:36 -0800</td>\n",
       "      <td>NaN</td>\n",
       "      <td>Pacific Time (US &amp; Canada)</td>\n",
       "    </tr>\n",
       "    <tr>\n",
       "      <th>4</th>\n",
       "      <td>570300817074462722</td>\n",
       "      <td>negative</td>\n",
       "      <td>1.0000</td>\n",
       "      <td>Can't Tell</td>\n",
       "      <td>1.0000</td>\n",
       "      <td>Virgin America</td>\n",
       "      <td>NaN</td>\n",
       "      <td>jnardino</td>\n",
       "      <td>NaN</td>\n",
       "      <td>0</td>\n",
       "      <td>@VirginAmerica and it's a really big bad thing about it</td>\n",
       "      <td>NaN</td>\n",
       "      <td>2015-02-24 11:14:45 -0800</td>\n",
       "      <td>NaN</td>\n",
       "      <td>Pacific Time (US &amp; Canada)</td>\n",
       "    </tr>\n",
       "  </tbody>\n",
       "</table>\n",
       "</div>"
      ],
      "text/plain": [
       "             tweet_id  ...               user_timezone\n",
       "0  570306133677760513  ...  Eastern Time (US & Canada)\n",
       "1  570301130888122368  ...  Pacific Time (US & Canada)\n",
       "2  570301083672813571  ...  Central Time (US & Canada)\n",
       "3  570301031407624196  ...  Pacific Time (US & Canada)\n",
       "4  570300817074462722  ...  Pacific Time (US & Canada)\n",
       "\n",
       "[5 rows x 15 columns]"
      ]
     },
     "execution_count": 6,
     "metadata": {
      "tags": []
     },
     "output_type": "execute_result"
    }
   ],
   "source": [
    "tweets.head()"
   ]
  },
  {
   "cell_type": "code",
   "execution_count": 7,
   "metadata": {
    "colab": {
     "base_uri": "https://localhost:8080/",
     "height": 668
    },
    "id": "PdAzzgp0ej4O",
    "outputId": "76c01f38-f781-4893-e858-4a116ca6cc1f"
   },
   "outputs": [
    {
     "data": {
      "text/html": [
       "<table border=\"1\" class=\"dataframe\">\n",
       "  <tbody>\n",
       "    <tr>\n",
       "      <td>@VirginAmerica What @dhepburn said.</td>\n",
       "    </tr>\n",
       "    <tr>\n",
       "      <td>@VirginAmerica plus you've added commercials to the experience... tacky.</td>\n",
       "    </tr>\n",
       "    <tr>\n",
       "      <td>@VirginAmerica I didn't today... Must mean I need to take another trip!</td>\n",
       "    </tr>\n",
       "    <tr>\n",
       "      <td>@VirginAmerica it's really aggressive to blast obnoxious \"entertainment\" in your guests' faces &amp;amp; they have little recourse</td>\n",
       "    </tr>\n",
       "    <tr>\n",
       "      <td>@VirginAmerica and it's a really big bad thing about it</td>\n",
       "    </tr>\n",
       "    <tr>\n",
       "      <td>@VirginAmerica seriously would pay $30 a flight for seats that didn't have this playing.\\nit's really the only bad thing about flying VA</td>\n",
       "    </tr>\n",
       "    <tr>\n",
       "      <td>@VirginAmerica yes, nearly every time I fly VX this “ear worm” won’t go away :)</td>\n",
       "    </tr>\n",
       "    <tr>\n",
       "      <td>@VirginAmerica Really missed a prime opportunity for Men Without Hats parody, there. https://t.co/mWpG7grEZP</td>\n",
       "    </tr>\n",
       "    <tr>\n",
       "      <td>@virginamerica Well, I didn't…but NOW I DO! :-D</td>\n",
       "    </tr>\n",
       "    <tr>\n",
       "      <td>@VirginAmerica it was amazing, and arrived an hour early. You're too good to me.</td>\n",
       "    </tr>\n",
       "    <tr>\n",
       "      <td>...</td>\n",
       "    </tr>\n",
       "    <tr>\n",
       "      <td>@AmericanAir Thanks! He is.</td>\n",
       "    </tr>\n",
       "    <tr>\n",
       "      <td>@AmericanAir thx for nothing on getting us out of the country and back to US. Broken plane? Come on. Get another one.</td>\n",
       "    </tr>\n",
       "    <tr>\n",
       "      <td>“@AmericanAir: @TilleyMonsta George, that doesn't look good. Please follow this link to start the refund process: http://t.co/4gr39s91Dl”😂</td>\n",
       "    </tr>\n",
       "    <tr>\n",
       "      <td>@AmericanAir my flight was Cancelled Flightled, leaving tomorrow morning. Auto rebooked for a Tuesday night flight but need to arrive Monday.</td>\n",
       "    </tr>\n",
       "    <tr>\n",
       "      <td>@AmericanAir right on cue with the delays👌</td>\n",
       "    </tr>\n",
       "    <tr>\n",
       "      <td>@AmericanAir thank you we got on a different flight to Chicago.</td>\n",
       "    </tr>\n",
       "    <tr>\n",
       "      <td>@AmericanAir leaving over 20 minutes Late Flight. No warnings or communication until we were 15 minutes Late Flight. That's called shitty customer svc</td>\n",
       "    </tr>\n",
       "    <tr>\n",
       "      <td>@AmericanAir Please bring American Airlines to #BlackBerry10</td>\n",
       "    </tr>\n",
       "    <tr>\n",
       "      <td>@AmericanAir you have my money, you change my flight, and don't answer your phones! Any other suggestions so I can make my commitment??</td>\n",
       "    </tr>\n",
       "    <tr>\n",
       "      <td>@AmericanAir we have 8 ppl so we need 2 know how many seats are on the next flight. Plz put us on standby for 4 people on the next flight?</td>\n",
       "    </tr>\n",
       "  </tbody>\n",
       "</table>"
      ],
      "text/plain": [
       "<IPython.core.display.HTML object>"
      ]
     },
     "metadata": {
      "tags": []
     },
     "output_type": "display_data"
    }
   ],
   "source": [
    "display(HTML(tweets.to_html(columns=['text'], index=False,header=None, max_rows=20)))"
   ]
  },
  {
   "cell_type": "code",
   "execution_count": 8,
   "metadata": {
    "colab": {
     "base_uri": "https://localhost:8080/",
     "height": 282
    },
    "id": "4omE8Yx_ej4S",
    "outputId": "c952fd31-7eb0-4725-d28a-5f4f184bf1e7"
   },
   "outputs": [
    {
     "data": {
      "text/plain": [
       "<matplotlib.axes._subplots.AxesSubplot at 0x7f1e0e0de2b0>"
      ]
     },
     "execution_count": 8,
     "metadata": {
      "tags": []
     },
     "output_type": "execute_result"
    },
    {
     "data": {
      "image/png": "[encoded data removed]",
      "text/plain": [
       "<Figure size 432x288 with 1 Axes>"
      ]
     },
     "metadata": {
      "needs_background": "light",
      "tags": []
     },
     "output_type": "display_data"
    }
   ],
   "source": [
    "tweets.airline_sentiment_confidence.hist(bins=40)"
   ]
  },
  {
   "cell_type": "code",
   "execution_count": 9,
   "metadata": {
    "colab": {
     "base_uri": "https://localhost:8080/"
    },
    "id": "0bBR9oMzej4V",
    "outputId": "2f8b7e13-5a66-45fb-de8c-2fab2eb75346"
   },
   "outputs": [
    {
     "data": {
      "text/plain": [
       "negative    0.626913\n",
       "neutral     0.211680\n",
       "positive    0.161407\n",
       "Name: airline_sentiment, dtype: float64"
      ]
     },
     "execution_count": 9,
     "metadata": {
      "tags": []
     },
     "output_type": "execute_result"
    }
   ],
   "source": [
    "tweets.airline_sentiment.value_counts()/len(tweets)"
   ]
  },
  {
   "cell_type": "markdown",
   "metadata": {
    "id": "0NM3RTTgEBai"
   },
   "source": [
    "Later on we can also use this same model to predict the reason of the complaint:"
   ]
  },
  {
   "cell_type": "code",
   "execution_count": 10,
   "metadata": {
    "colab": {
     "base_uri": "https://localhost:8080/"
    },
    "id": "b-fsLEaDej4Z",
    "outputId": "39d8d177-1875-4cc6-a791-15ae46a87058"
   },
   "outputs": [
    {
     "data": {
      "text/plain": [
       "Customer Service Issue         2910\n",
       "Late Flight                    1665\n",
       "Can't Tell                     1190\n",
       "Cancelled Flight                847\n",
       "Lost Luggage                    724\n",
       "Bad Flight                      580\n",
       "Flight Booking Problems         529\n",
       "Flight Attendant Complaints     481\n",
       "longlines                       178\n",
       "Damaged Luggage                  74\n",
       "Name: negativereason, dtype: int64"
      ]
     },
     "execution_count": 10,
     "metadata": {
      "tags": []
     },
     "output_type": "execute_result"
    }
   ],
   "source": [
    "tweets.negativereason.value_counts()"
   ]
  },
  {
   "cell_type": "code",
   "execution_count": 11,
   "metadata": {
    "colab": {
     "base_uri": "https://localhost:8080/",
     "height": 35
    },
    "id": "FgQ6INI2ej4i",
    "outputId": "61b5315f-08c1-4f95-a085-e89328bbc134"
   },
   "outputs": [
    {
     "data": {
      "application/vnd.google.colaboratory.intrinsic+json": {
       "type": "string"
      },
      "text/plain": [
       "'If you downloaded the file and have it in a \"data\" directory,\\n        uncomment and run the lines below'"
      ]
     },
     "execution_count": 11,
     "metadata": {
      "tags": []
     },
     "output_type": "execute_result"
    }
   ],
   "source": [
    "'''If you downloaded the file and have it in a \"data\" directory,\n",
    "        uncomment and run the lines below'''\n",
    "# data_directory = Path(os.getcwd())/'data'\n",
    "# assert data_directory.is_dir(), 'Data directory not found'\n",
    "# data_files = listdir(data_directory)\n",
    "# print(data_files)\n",
    "\n",
    "# csv_datafile = data_directory/'Tweets.csv'\n",
    "# print('Data file:', csv_datafile)\n",
    "# tweets = pd.read_csv(csv_datafile)\n",
    "# tweets"
   ]
  },
  {
   "cell_type": "markdown",
   "metadata": {
    "id": "hYwGAUesej4n"
   },
   "source": [
    "Every tweet starts with a [Twitter handle](https://sproutsocial.com/glossary/twitter-handle/) which refers to the Airline, to which the twitter message is adressed to. E.g:"
   ]
  },
  {
   "cell_type": "code",
   "execution_count": 12,
   "metadata": {
    "colab": {
     "base_uri": "https://localhost:8080/"
    },
    "id": "H5VNyeqJej4n",
    "outputId": "7287420b-ede6-4f60-97c2-99ec6adbabb7"
   },
   "outputs": [
    {
     "data": {
      "text/plain": [
       "(['@VirginAmerica What @dhepburn said.',\n",
       "  \"@VirginAmerica plus you've added commercials to the experience... tacky.\",\n",
       "  \"@VirginAmerica I didn't today... Must mean I need to take another trip!\",\n",
       "  '@VirginAmerica it\\'s really aggressive to blast obnoxious \"entertainment\" in your guests\\' faces &amp; they have little recourse',\n",
       "  \"@VirginAmerica and it's a really big bad thing about it\"],\n",
       " ['Virgin America',\n",
       "  'Virgin America',\n",
       "  'Virgin America',\n",
       "  'Virgin America',\n",
       "  'Virgin America'])"
      ]
     },
     "execution_count": 12,
     "metadata": {
      "tags": []
     },
     "output_type": "execute_result"
    }
   ],
   "source": [
    "list(tweets.text[:5]), list(tweets.airline[:5])"
   ]
  },
  {
   "cell_type": "markdown",
   "metadata": {
    "id": "TcMyNhAKej4q"
   },
   "source": [
    "We want to remove this information. In order to do so we add a new rule to the [default rules](https://github.com/fastai/fastai/blob/a8ed5a64f93df9be02eef907ddbc355f3ad130d1/fastai/text/core.py#L96) for preprocessing text:"
   ]
  },
  {
   "cell_type": "code",
   "execution_count": 13,
   "metadata": {
    "id": "6XC69JTJej4r"
   },
   "outputs": [],
   "source": [
    "def rm_first_handle(t):\n",
    "    return re.sub(r'^@\\w* ', '', t)\n",
    "\n",
    "rules = defaults.text_proc_rules\n",
    "rules.insert(0, rm_first_handle)"
   ]
  },
  {
   "cell_type": "markdown",
   "metadata": {
    "id": "Hi9tGTup8lHZ"
   },
   "source": [
    "**IMPORTANT**: If you run the previous line of code the rules will be modified for the whole Notebook. So later on this will also affect the DataLoaders!"
   ]
  },
  {
   "cell_type": "markdown",
   "metadata": {
    "id": "4IAVY33Gej4t"
   },
   "source": [
    "Now let's tokenize the tweets:"
   ]
  },
  {
   "cell_type": "code",
   "execution_count": null,
   "metadata": {
    "colab": {
     "base_uri": "https://localhost:8080/",
     "height": 51
    },
    "id": "NpRuGSaYej4u",
    "outputId": "6ecd5e88-8125-41d7-d4aa-4e49b1f475a0",
    "scrolled": true
   },
   "outputs": [],
   "source": [
    "tokenized_df, vocab_count = tokenize_df(tweets,  text_cols='text', tok=SpacyTokenizer())\n",
    "vocab = list(vocab_count.keys())\n",
    "print(len(vocab))\n",
    "print(vocab[:5])"
   ]
  },
  {
   "cell_type": "code",
   "execution_count": 15,
   "metadata": {
    "colab": {
     "base_uri": "https://localhost:8080/"
    },
    "id": "NrOQVMTh7Vrx",
    "outputId": "8a9b904e-e3e9-48c2-b097-b3d6afff4f38"
   },
   "outputs": [
    {
     "data": {
      "text/plain": [
       "0                                                                                                          [xxbos, xxmaj, what, @dhepburn, said, .]\n",
       "1                                                                     [xxbos, plus, you, 've, added, commercials, to, the, experience, …, tacky, .]\n",
       "2                                                            [xxbos, i, did, n't, today, …, xxmaj, must, mean, i, need, to, take, another, trip, !]\n",
       "3    [xxbos, it, 's, really, aggressive, to, blast, obnoxious, \", entertainment, \", in, your, guests, ', faces, &, &, they, have, little, recourse]\n",
       "4                                                                                       [xxbos, and, it, 's, a, really, big, bad, thing, about, it]\n",
       "Name: text, dtype: object"
      ]
     },
     "execution_count": 15,
     "metadata": {
      "tags": []
     },
     "output_type": "execute_result"
    }
   ],
   "source": [
    "tokenized_df.text[:5]"
   ]
  },
  {
   "cell_type": "markdown",
   "metadata": {
    "id": "cDvouEWUej4w"
   },
   "source": [
    "*tokenize_df* returns the tokenized dataframe and also the counting of the tokenized words in the dataset. For example if we want to get all the words that appear at least 3 times, we can write the following code:"
   ]
  },
  {
   "cell_type": "code",
   "execution_count": 16,
   "metadata": {
    "colab": {
     "base_uri": "https://localhost:8080/"
    },
    "id": "2TGHLDckej4x",
    "outputId": "30043b36-262f-4544-9994-f61267d22418",
    "scrolled": true
   },
   "outputs": [
    {
     "data": {
      "text/plain": [
       "4683"
      ]
     },
     "execution_count": 16,
     "metadata": {
      "tags": []
     },
     "output_type": "execute_result"
    }
   ],
   "source": [
    "len([key for key in vocab_count if vocab_count[key]>2])"
   ]
  },
  {
   "cell_type": "markdown",
   "metadata": {
    "id": "-VV8UoEZej4z"
   },
   "source": [
    "So 4683 words appear **at least** 3 times in the entire dataset."
   ]
  },
  {
   "cell_type": "markdown",
   "metadata": {
    "id": "r2BRmizOej40"
   },
   "source": [
    "We can now compare the tokenized VS the original tweets:\n",
    "\n"
   ]
  },
  {
   "cell_type": "code",
   "execution_count": 17,
   "metadata": {
    "colab": {
     "base_uri": "https://localhost:8080/"
    },
    "id": "CA-2LCb6ej40",
    "outputId": "5aec9363-4190-4e00-a79e-67afb1c02cc3"
   },
   "outputs": [
    {
     "name": "stdout",
     "output_type": "stream",
     "text": [
      "before:  @VirginAmerica What @dhepburn said.\n",
      "after:  xxbos xxmaj what @dhepburn said .\n",
      "\n",
      "\n",
      "before:  @VirginAmerica plus you've added commercials to the experience... tacky.\n",
      "after:  xxbos plus you 've added commercials to the experience … tacky .\n",
      "\n",
      "\n",
      "before:  @VirginAmerica I didn't today... Must mean I need to take another trip!\n",
      "after:  xxbos i did n't today … xxmaj must mean i need to take another trip !\n",
      "\n",
      "\n",
      "before:  @VirginAmerica it's really aggressive to blast obnoxious \"entertainment\" in your guests' faces &amp; they have little recourse\n",
      "after:  xxbos it 's really aggressive to blast obnoxious \" entertainment \" in your guests ' faces & & they have little recourse\n",
      "\n",
      "\n",
      "before:  @VirginAmerica and it's a really big bad thing about it\n",
      "after:  xxbos and it 's a really big bad thing about it\n",
      "\n",
      "\n",
      "before:  @VirginAmerica seriously would pay $30 a flight for seats that didn't have this playing.\n",
      "it's really the only bad thing about flying VA\n",
      "after:  xxbos seriously would pay $ 30 a flight for seats that did n't have this playing . \n",
      " it 's really the only bad thing about flying xxup va\n",
      "\n",
      "\n"
     ]
    }
   ],
   "source": [
    "i = 0\n",
    "for a,b in zip(list(tokenized_df.text), list(tweets.text)):\n",
    "    print('before: ', b)\n",
    "    print('after: ', ' '.join(a))\n",
    "    print('\\n')\n",
    "    if i == 5:\n",
    "        break\n",
    "    i+=1"
   ]
  },
  {
   "cell_type": "markdown",
   "metadata": {
    "id": "Mfzk0mFUej43"
   },
   "source": [
    "## Create the DataLoaders"
   ]
  },
  {
   "cell_type": "code",
   "execution_count": 18,
   "metadata": {
    "id": "gqABDa6bWpcR"
   },
   "outputs": [],
   "source": [
    "# TODO: Random splitting is not a good idea, we have to see what are the distributions of labels of the tweets.\n",
    "# For example if we have 80% negative tweets in training and 20% positive and then the other way around in validation\n",
    "# This might not be optimal. In particular we should have a homogenous distribution of tweets in the training set\n",
    "# in order to not have a bias towards a particular classifciation. 80% neg => Bias towards neg tweet classification."
   ]
  },
  {
   "cell_type": "code",
   "execution_count": 19,
   "metadata": {
    "id": "C_YRkNKzOpaQ"
   },
   "outputs": [],
   "source": [
    "# For an explanation of this function go back to \"Analyse the data\" section.\n",
    "def rm_first_handle(t):\n",
    "    return re.sub(r'^@\\w* ', '', t)\n",
    "\n",
    "rules = defaults.text_proc_rules\n",
    "rules.insert(0, rm_first_handle)"
   ]
  },
  {
   "cell_type": "markdown",
   "metadata": {
    "id": "OYmIMQefej43"
   },
   "source": [
    "We will now create a [TextDataLoader](https://docs.fast.ai/text.data#TextDataLoaders) which is a Wrapper around the [DataLoader](https://docs.fast.ai/data.core.html#DataLoaders) class. The DataLoader splits our dataset between training and validation. The TextDataLoader adds more functionality specific to NLP problems, like the vocabulary of the data.\n",
    "\n",
    "Now a few things:\n",
    "- Remember that the TextDataLoaders just consider a word as part of the vocab if it appears **more than 3 times** in the entire dataset by default if you use `TextDataLoaders.from_df`.\n",
    "- We also need `is_lm=True` because we will first train a **Language Model**."
   ]
  },
  {
   "cell_type": "code",
   "execution_count": 20,
   "metadata": {
    "colab": {
     "base_uri": "https://localhost:8080/",
     "height": 544
    },
    "id": "xy_gntFeej46",
    "outputId": "05ea4e9e-2dd8-4485-e0ee-8d4acb58a879"
   },
   "outputs": [
    {
     "data": {
      "text/html": [],
      "text/plain": [
       "<IPython.core.display.HTML object>"
      ]
     },
     "metadata": {
      "tags": []
     },
     "output_type": "display_data"
    },
    {
     "data": {
      "text/html": [
       "<table border=\"1\" class=\"dataframe\">\n",
       "  <thead>\n",
       "    <tr style=\"text-align: right;\">\n",
       "      <th></th>\n",
       "      <th>text</th>\n",
       "      <th>text_</th>\n",
       "    </tr>\n",
       "  </thead>\n",
       "  <tbody>\n",
       "    <tr>\n",
       "      <th>0</th>\n",
       "      <td>xxbos well this one missed the mark . xxmaj she was in a xxunk from the minute i xxunk up to the counter xxbos once again your customer service at the providence airport was horrible . xxmaj do you actually care about customers or just making money ? xxbos now we have to wait , and wait to get it straight . i fly you for personal and business . xxmaj but</td>\n",
       "      <td>well this one missed the mark . xxmaj she was in a xxunk from the minute i xxunk up to the counter xxbos once again your customer service at the providence airport was horrible . xxmaj do you actually care about customers or just making money ? xxbos now we have to wait , and wait to get it straight . i fly you for personal and business . xxmaj but now</td>\n",
       "    </tr>\n",
       "    <tr>\n",
       "      <th>1</th>\n",
       "      <td>info for her new flight . xxmaj basic customer service xxbos .@united board customers onto a plane with no pilot ? xxmaj the only thing that expedited was my time in line to book a new flight . xxmaj come on now . xxbos thanks for making my trip home # xxunk next # brandmance flight xxmaj i 'll take more xxunk ! # xxup love # travel # business xxbos was</td>\n",
       "      <td>for her new flight . xxmaj basic customer service xxbos .@united board customers onto a plane with no pilot ? xxmaj the only thing that expedited was my time in line to book a new flight . xxmaj come on now . xxbos thanks for making my trip home # xxunk next # brandmance flight xxmaj i 'll take more xxunk ! # xxup love # travel # business xxbos was there</td>\n",
       "    </tr>\n",
       "    <tr>\n",
       "      <th>2</th>\n",
       "      <td>! xxmaj guess i should just hang up &amp; &amp; give up on using my award miles before prices jump ? xxmaj xxunk thanks http : / / t.co / xxunk xxbos xxmaj how do i place it on hold and complete payment ? i do n't see any way to do that from my reservations page . xxbos xxmaj have a cup coffee and relax while you check out the xxmaj</td>\n",
       "      <td>xxmaj guess i should just hang up &amp; &amp; give up on using my award miles before prices jump ? xxmaj xxunk thanks http : / / t.co / xxunk xxbos xxmaj how do i place it on hold and complete payment ? i do n't see any way to do that from my reservations page . xxbos xxmaj have a cup coffee and relax while you check out the xxmaj new</td>\n",
       "    </tr>\n",
       "    <tr>\n",
       "      <th>3</th>\n",
       "      <td>xxbos why does it feel like xxmaj i 'm being xxunk and dime to enjoy a flight with xxup aa ? i purchased a tkt but have to pay extra for a seat xxbos xxmaj can you bring xxunk xxunk in small pet carrier onboard your flights ? xxbos 20 min more delays to flt xxunk at sfo 2 load 2 more pax makes no sense . xxmaj will strand many of</td>\n",
       "      <td>why does it feel like xxmaj i 'm being xxunk and dime to enjoy a flight with xxup aa ? i purchased a tkt but have to pay extra for a seat xxbos xxmaj can you bring xxunk xxunk in small pet carrier onboard your flights ? xxbos 20 min more delays to flt xxunk at sfo 2 load 2 more pax makes no sense . xxmaj will strand many of us</td>\n",
       "    </tr>\n",
       "    <tr>\n",
       "      <th>4</th>\n",
       "      <td>they just kept putting me on hold and still did n't fix the problem xxbos iphone app now has passbook support ! xxmaj xxunk ! xxmaj it 's the little things in life … 😜 xxbos xxmaj sent an email more than 24 hours ago asking a few questions , still no response . xxmaj need answers before ( hopefully ) xxmaj flight xxmaj booking xxmaj problems flight … xxbos xxup lauren</td>\n",
       "      <td>just kept putting me on hold and still did n't fix the problem xxbos iphone app now has passbook support ! xxmaj xxunk ! xxmaj it 's the little things in life … 😜 xxbos xxmaj sent an email more than 24 hours ago asking a few questions , still no response . xxmaj need answers before ( hopefully ) xxmaj flight xxmaj booking xxmaj problems flight … xxbos xxup lauren xxup</td>\n",
       "    </tr>\n",
       "  </tbody>\n",
       "</table>"
      ],
      "text/plain": [
       "<IPython.core.display.HTML object>"
      ]
     },
     "metadata": {
      "tags": []
     },
     "output_type": "display_data"
    }
   ],
   "source": [
    "lm_dls = TextDataLoaders.from_df(tweets, text_col='text',  is_lm=True)\n",
    "lm_dls.show_batch(max_n=5)"
   ]
  },
  {
   "cell_type": "markdown",
   "metadata": {
    "id": "QwpZAYuDej49"
   },
   "source": [
    "Let's see a little bit the structure of this dataloader:"
   ]
  },
  {
   "cell_type": "code",
   "execution_count": 21,
   "metadata": {
    "colab": {
     "base_uri": "https://localhost:8080/"
    },
    "id": "LsorDk6mej49",
    "outputId": "ab3f1a91-6aaf-4b4a-d492-306b367b2bb0"
   },
   "outputs": [
    {
     "data": {
      "text/plain": [
       "{'__getitem__': 'Retrieve `DataLoader` at `i` (`0` is training, `1` is validation)',\n",
       " 'cpu': 'Use the cpu',\n",
       " 'cuda': 'Use the gpu if available',\n",
       " 'from_dblock': 'Create a dataloaders from a given `dblock`',\n",
       " 'new_empty': 'Create a new empty version of `self` with the same transforms',\n",
       " 'to': 'Use `device`',\n",
       " 'train': 'Training `DataLoader`',\n",
       " 'train_ds': 'Training `Dataset`',\n",
       " 'valid': 'Validation `DataLoader`',\n",
       " 'valid_ds': 'Validation `Dataset`'}"
      ]
     },
     "execution_count": 21,
     "metadata": {
      "tags": []
     },
     "output_type": "execute_result"
    }
   ],
   "source": [
    "lm_dls._docs"
   ]
  },
  {
   "cell_type": "markdown",
   "metadata": {
    "id": "CqvqB28oej5B"
   },
   "source": [
    "The previous DataLoader was for training or fine tunning the language model. The following one will be the DataLoader used for **classification**."
   ]
  },
  {
   "cell_type": "code",
   "execution_count": 22,
   "metadata": {
    "colab": {
     "base_uri": "https://localhost:8080/",
     "height": 433
    },
    "id": "_XjEx7AXej5C",
    "outputId": "1936c8f7-f5a4-485b-9245-8b6c69700cea"
   },
   "outputs": [
    {
     "data": {
      "text/html": [],
      "text/plain": [
       "<IPython.core.display.HTML object>"
      ]
     },
     "metadata": {
      "tags": []
     },
     "output_type": "display_data"
    },
    {
     "data": {
      "text/html": [
       "<table border=\"1\" class=\"dataframe\">\n",
       "  <thead>\n",
       "    <tr style=\"text-align: right;\">\n",
       "      <th></th>\n",
       "      <th>text</th>\n",
       "      <th>category</th>\n",
       "    </tr>\n",
       "  </thead>\n",
       "  <tbody>\n",
       "    <tr>\n",
       "      <th>0</th>\n",
       "      <td>xxbos xxmaj hi have a question re future xxmaj flight xxmaj booking xxmaj problems . xxup dub - jac 29 / 9 xxup jac - lax 8 / 10 xxup lax - dub 13 / 10 . xxmaj i 'm * xxunk xxmaj what is checked bag allowance for xxup jac - lax ?</td>\n",
       "      <td>neutral</td>\n",
       "    </tr>\n",
       "    <tr>\n",
       "      <th>1</th>\n",
       "      <td>xxbos i xxup just xxup asked xxup my xxup boyfriend xxup to xxup xxunk xxup over xxup the xxup xxunk xxup on xxup flight xxunk xxup he xxup said xxup yes xxrep 4 ! xxup best xxup day xxup ever xxrep 3 ! xxup thank u xxup so xxup much xxrep 6 !</td>\n",
       "      <td>positive</td>\n",
       "    </tr>\n",
       "    <tr>\n",
       "      <th>2</th>\n",
       "      <td>xxbos xxmaj many xxmaj thanks for the xxmaj follow . \\n▁ # xxunk # xxunk # xxup usa # xxmaj xxunk \\n xxmaj looking for xxmaj any xxmaj help 😍 \\n 💗 🇬 🇧 💗 🇺 🇸 💗 \\n 🎀 xxunk 🎀 http : / / t.co / xxunk</td>\n",
       "      <td>neutral</td>\n",
       "    </tr>\n",
       "    <tr>\n",
       "      <th>3</th>\n",
       "      <td>xxbos 4 segments , 4 / 4 delayed . xxmaj gnv &gt; xxup ctl . xxup ctl &gt; xxup jan . xxup jan &gt; xxup ctl . xxup ctl &gt; xxup gnv . xxmaj my year off from flying with you guys was the way to go .</td>\n",
       "      <td>negative</td>\n",
       "    </tr>\n",
       "    <tr>\n",
       "      <th>4</th>\n",
       "      <td>xxbos xxup poor xxup experience 2day at ord xxunk . 8 xxunk . w / 3 cust . 10 waiting . xxmaj asked to speak w / supervisor . xxmaj told 20 min . xxmaj in a mtg ! ! xxmaj what ? ! ? !</td>\n",
       "      <td>negative</td>\n",
       "    </tr>\n",
       "    <tr>\n",
       "      <th>5</th>\n",
       "      <td>xxbos xxup fail xxmaj you xxmaj cancelled xxmaj flightled our flight frm xxup xxunk and then used our reserv home to xxup iah ( from xxup sea ) for reflight xxmaj booking xxmaj problems w / out xxup our xxup xxunk ! ! # xxup xxunk</td>\n",
       "      <td>negative</td>\n",
       "    </tr>\n",
       "    <tr>\n",
       "      <th>6</th>\n",
       "      <td>xxbos xxup but @united just re - booked to xxup bos ; xxup xxunk ! ! now 3 hour bus to xxup xxunk home . xxmaj could have flown to xxup bdl &amp; &amp; back to xxup dc in same time . # unitedairlines</td>\n",
       "      <td>negative</td>\n",
       "    </tr>\n",
       "    <tr>\n",
       "      <th>7</th>\n",
       "      <td>xxbos xxup by xxup the xxup grace xxup of xxup god , i xxup made xxup it ! “ @usairways : xxunk _ _ xxmaj we do n't have those xxunk in here . xxmaj we hope you can make that flight . ”</td>\n",
       "      <td>positive</td>\n",
       "    </tr>\n",
       "  </tbody>\n",
       "</table>"
      ],
      "text/plain": [
       "<IPython.core.display.HTML object>"
      ]
     },
     "metadata": {
      "tags": []
     },
     "output_type": "display_data"
    }
   ],
   "source": [
    "tc_dls = TextDataLoaders.from_df(tweets, text_col='text', label_col='airline_sentiment')\n",
    "tc_dls.show_batch(max_n=8)"
   ]
  },
  {
   "cell_type": "markdown",
   "metadata": {
    "id": "-bbkHiyPej5E"
   },
   "source": [
    "From the code of `TextDataLoaders.from_df` we can see that the vocab is created with words that appear **at least 3 times** in the entire dataset. Any words that appear with a lower frequency will be automatically tokenized as `xxunk`, which stands for *unknown*."
   ]
  },
  {
   "cell_type": "markdown",
   "metadata": {
    "id": "Nihen0qRej5E"
   },
   "source": [
    "So far the words in the vocab are words that appear at least 3 times in the entire dataset, if we want to change that, we can not do it directly from the high level API that fastai offers, but instead we need a couple of more lines of code. Anyway the following lines are just what `TextDataLoaders.from_df` does but changing the parameter **min_freq** to one."
   ]
  },
  {
   "cell_type": "code",
   "execution_count": null,
   "metadata": {
    "colab": {
     "base_uri": "https://localhost:8080/",
     "height": 17
    },
    "id": "pJOj79rvej5F",
    "outputId": "1a330884-4e49-40e6-c9e6-0ed35142ae2d",
    "scrolled": true
   },
   "outputs": [],
   "source": [
    "'''\n",
    "If you wanna have a TextDataLoader with words that appear less than 3 times in the dataset:\n",
    "'''\n",
    "\n",
    "# we set min_freq to ONE to allow any words that appear at least once.\n",
    "min_freq=1\n",
    "\n",
    "dblock = DataBlock(blocks=[TextBlock.from_df(text_cols='text', is_lm=True, min_freq=min_freq) ],\n",
    "                           get_x=ColReader(\"text\"),\n",
    "                           splitter = RandomSplitter(valid_pct=0.2))\n",
    "\n",
    "tweets_f1 = TextDataLoaders.from_dblock(dblock, tweets)"
   ]
  },
  {
   "cell_type": "markdown",
   "metadata": {
    "id": "p8iRqH26ej5H"
   },
   "source": [
    "Another issue is that eventhough `TextDataLoaders.from_df` call `tokenize_df`, the first will add some extra special tokens that are not provided by `tokenize_df`. Let's see what this means:"
   ]
  },
  {
   "cell_type": "code",
   "execution_count": 45,
   "metadata": {
    "colab": {
     "base_uri": "https://localhost:8080/"
    },
    "id": "LL2geuW8ej5I",
    "outputId": "5279e868-cb3b-44bd-824d-e7d40855246e",
    "scrolled": true
   },
   "outputs": [
    {
     "name": "stdout",
     "output_type": "stream",
     "text": [
      "Length of vocabulary obtained from: \n",
      "\n",
      "   - tokenize_df: 15740\n",
      "\n",
      "   - TextDataLoaders.from_df (min_freq=3): 4664\n",
      "\n",
      "   - TextDataLoaders.from_dblock (min_freq=1): 15752\n"
     ]
    }
   ],
   "source": [
    "print('Length of vocabulary obtained from: ')\n",
    "print(f'\\n   - tokenize_df: {len(set(vocab))}')\n",
    "print(f'\\n   - TextDataLoaders.from_df (min_freq=3): {len(lm_dls.vocab)}')\n",
    "print(f'\\n   - TextDataLoaders.from_dblock (min_freq=1): {len(tweets_f1.vocab)}')\n"
   ]
  },
  {
   "cell_type": "markdown",
   "metadata": {
    "id": "HT46U_Jnej5L"
   },
   "source": [
    "A priori you would expect that the vocab from `tokenize_df`and `TextDataLoaders.from_dblock` to be the same size as both obtain the vocab from any word that appears in the dataset. Despite of this one has 7 more items than the other. Which are those items?"
   ]
  },
  {
   "cell_type": "code",
   "execution_count": 27,
   "metadata": {
    "id": "25TDq-1Fej5M"
   },
   "outputs": [],
   "source": [
    "def vocab_diff(vocab1, vocab2):\n",
    "    if len(vocab1)>len(vocab2):\n",
    "        b_vocab = set(vocab1)\n",
    "        s_vocab = set(vocab2)\n",
    "    else:\n",
    "        b_vocab = set(vocab2)\n",
    "        s_vocab = set(vocab1)\n",
    "        \n",
    "    return list(b_vocab-s_vocab.intersection(b_vocab))\n",
    "        "
   ]
  },
  {
   "cell_type": "markdown",
   "metadata": {
    "id": "DW5IZPQsej5S"
   },
   "source": [
    "The added special tokens from `TextDataLoaders.from_df` are:"
   ]
  },
  {
   "cell_type": "code",
   "execution_count": 46,
   "metadata": {
    "colab": {
     "base_uri": "https://localhost:8080/"
    },
    "id": "41D8bqyjej5T",
    "outputId": "da52204b-371b-4c64-f265-993ea40b97cd"
   },
   "outputs": [
    {
     "data": {
      "text/plain": [
       "['xxeos', 'xxfake', 'xxfld', 'xxpad', 'xxunk']"
      ]
     },
     "execution_count": 46,
     "metadata": {
      "tags": []
     },
     "output_type": "execute_result"
    }
   ],
   "source": [
    "vocab_diff(tweets_f1.vocab, vocab)"
   ]
  },
  {
   "cell_type": "markdown",
   "metadata": {
    "id": "i34un_Qeej5Z"
   },
   "source": [
    "Besides, for some reason the special token `xxfake` appears twice in the vocab from `tweets_f1` (probably a bug):"
   ]
  },
  {
   "cell_type": "code",
   "execution_count": null,
   "metadata": {
    "colab": {
     "base_uri": "https://localhost:8080/"
    },
    "id": "OKGwlPDyej5Z",
    "outputId": "50035ca6-3f42-4c6a-913c-a76cffdef46a",
    "scrolled": true
   },
   "outputs": [],
   "source": [
    "import collections\n",
    "print({item:count for item, count in collections.Counter(tweets_f1.vocab).items() if count > 1})"
   ]
  },
  {
   "cell_type": "code",
   "execution_count": 44,
   "metadata": {
    "colab": {
     "base_uri": "https://localhost:8080/"
    },
    "id": "1Ayyad-7ej5b",
    "outputId": "9d668145-639b-438f-99e9-830337b4567c"
   },
   "outputs": [
    {
     "data": {
      "text/plain": [
       "['xxeos', 'xxfake', 'xxfld', 'xxpad', 'xxunk']"
      ]
     },
     "execution_count": 44,
     "metadata": {
      "tags": []
     },
     "output_type": "execute_result"
    }
   ],
   "source": [
    "vocab_diff([key for key in vocab_count if vocab_count[key]>2], lm_dls.vocab)"
   ]
  },
  {
   "cell_type": "markdown",
   "metadata": {
    "id": "sHEjMUrtej5t"
   },
   "source": [
    "## Some tools for debugging the data"
   ]
  },
  {
   "cell_type": "markdown",
   "metadata": {
    "id": "3DNxpDYYej5t"
   },
   "source": [
    "A useful tool for debugging can be to find some word in the original texts, for example:"
   ]
  },
  {
   "cell_type": "code",
   "execution_count": 33,
   "metadata": {
    "colab": {
     "base_uri": "https://localhost:8080/"
    },
    "id": "8tTMaN9Iej5u",
    "outputId": "40fde52d-8532-43cf-e058-7d1873575d5a"
   },
   "outputs": [
    {
     "data": {
      "text/plain": [
       "11108    @usairways I don't think the US site allows that (unlike http://t.co/etfjqIwUvt). Can I use a US credit if I held on http://t.co/etfjqIwUvt?\n",
       "Name: text, dtype: object"
      ]
     },
     "execution_count": 33,
     "metadata": {
      "tags": []
     },
     "output_type": "execute_result"
    }
   ],
   "source": [
    "tweets.text[tweets.text.str.contains('think the US site allows that ', regex=False)]"
   ]
  },
  {
   "cell_type": "markdown",
   "metadata": {
    "id": "XqV9UZ3Cej5w"
   },
   "source": [
    "The word \"*explaining*\" appears twice in the dataset, once in row 2279 and once in row 14225"
   ]
  },
  {
   "cell_type": "markdown",
   "metadata": {
    "id": "NuvQgeX0ej5w"
   },
   "source": [
    "Another useful tool is to decode the numericalized datasets:"
   ]
  },
  {
   "cell_type": "code",
   "execution_count": 50,
   "metadata": {
    "id": "PcRN4cIeej5x"
   },
   "outputs": [],
   "source": [
    "decoded = lm_dls.train_ds.decode(lm_dls.train_ds)"
   ]
  },
  {
   "cell_type": "code",
   "execution_count": null,
   "metadata": {
    "colab": {
     "base_uri": "https://localhost:8080/"
    },
    "id": "-uGqwvwkej51",
    "outputId": "096a02fe-4d2c-4d50-cf7f-07d8c036bf3e",
    "scrolled": true
   },
   "outputs": [],
   "source": [
    "lm_dls.train_ds[0], decoded[0]"
   ]
  },
  {
   "cell_type": "markdown",
   "metadata": {
    "id": "ojKij_Eiej54"
   },
   "source": [
    "The dictionary between tokenized words and integers is found inside the [Numericalize](https://docs.fast.ai/text.data#Numericalize) class:"
   ]
  },
  {
   "cell_type": "code",
   "execution_count": null,
   "metadata": {
    "colab": {
     "base_uri": "https://localhost:8080/"
    },
    "id": "eVFDmWITej6M",
    "outputId": "21c170d6-14f7-44d6-acdd-d031fbfadb90",
    "scrolled": true
   },
   "outputs": [],
   "source": [
    "lm_dls.train_ds.numericalize.o2i"
   ]
  },
  {
   "cell_type": "code",
   "execution_count": null,
   "metadata": {
    "id": "pYeQLsq4ej6O"
   },
   "outputs": [],
   "source": [
    "# [lm_dls.train_ds.numericalize.o2i[word] for word in decoded[0][0].split()]"
   ]
  },
  {
   "cell_type": "markdown",
   "metadata": {
    "id": "0r3biWlrej6Q"
   },
   "source": [
    "Also useful:"
   ]
  },
  {
   "cell_type": "code",
   "execution_count": 53,
   "metadata": {
    "id": "vP0UbTqfej6Q"
   },
   "outputs": [],
   "source": [
    "for text in decoded:\n",
    "        if 'xxeos' in text[0]:\n",
    "            print(text[0])"
   ]
  },
  {
   "cell_type": "markdown",
   "metadata": {
    "id": "m7fzk-mAej6S"
   },
   "source": [
    "## Training"
   ]
  },
  {
   "cell_type": "markdown",
   "metadata": {
    "id": "Vo7ZAUCqHGQ4"
   },
   "source": [
    "Make sure that the vocabs of the classifier and the Language Model are the same (as a crosscheck):"
   ]
  },
  {
   "cell_type": "code",
   "execution_count": 54,
   "metadata": {
    "id": "xVu-uN7b2-GT"
   },
   "outputs": [],
   "source": [
    "assert set(lm_dls.vocab) == set(tc_dls.vocab[0]), 'Vocabs are not equal!'"
   ]
  },
  {
   "cell_type": "markdown",
   "metadata": {
    "id": "vf_EdKqrej6T"
   },
   "source": [
    "Now let's define the [Callbacks](https://docs.fast.ai/callback.tracker) we are going to use:\n",
    "- [ActivationStats](https://docs.fast.ai/callback.hook#ActivationStats): Callback that record the mean and std of activations.\n",
    "- [ShowGraphCallback](https://docs.fast.ai/callback.progress#ShowGraphCallback): Update a graph of training and validation loss\n",
    "- [ParamScheduler](https://docs.fast.ai/callback.schedule#ParamScheduler): We are not going to use it in this guide, but it is definitely interesting to play with it. It allows to change the learning rate at different stages of the training and also to have a different learning rate scheduler for every parameter group. "
   ]
  },
  {
   "cell_type": "code",
   "execution_count": 55,
   "metadata": {
    "id": "4Jwm-NT8ej6T"
   },
   "outputs": [],
   "source": [
    "cbs = [\n",
    "       ShowGraphCallback,\n",
    "       ActivationStats(with_hist=True),\n",
    "       SaveModelCallback\n",
    "#        ParamScheduler(sched)\n",
    "      ]"
   ]
  },
  {
   "cell_type": "markdown",
   "metadata": {
    "id": "qYNqsuAlej6V"
   },
   "source": [
    "Now let's create the learner. The [Learner](https://docs.fast.ai/learner) class is the class that contains everything necessary for training. It contains:\n",
    "- DataLoaders\n",
    "- Model\n",
    "- Loss function\n",
    "- Optimizer \n",
    "- Splitter to split the model in several parameter groups\n",
    "- Callbacks for the training.\n",
    "- etc.\n",
    "\n",
    "In the following line we will pass as arguments to the function [language_model_learner](https://docs.fast.ai/text.learner#language_model_learner): \n",
    "- The DataLoader\n",
    "- The name of the model: [AWS_LSTM](https://docs.fast.ai/text.models.awdlstm)\n",
    "- The Callbacks\n",
    "- The path were we wanna save the trained model or part of the model, e.g. just the encoder"
   ]
  },
  {
   "cell_type": "code",
   "execution_count": 56,
   "metadata": {
    "colab": {
     "base_uri": "https://localhost:8080/",
     "height": 17
    },
    "id": "KeE_PEQJej6W",
    "outputId": "44c13085-4a8d-42d6-e84b-ef1c43b66194"
   },
   "outputs": [
    {
     "data": {
      "text/html": [],
      "text/plain": [
       "<IPython.core.display.HTML object>"
      ]
     },
     "metadata": {
      "tags": []
     },
     "output_type": "display_data"
    }
   ],
   "source": [
    "learner = language_model_learner(lm_dls, AWD_LSTM, cbs=cbs, metrics=[accuracy])"
   ]
  },
  {
   "cell_type": "markdown",
   "metadata": {
    "id": "K7wOFq-4ej6i"
   },
   "source": [
    "We can see that there are already certain Callbacks which are set up by default:"
   ]
  },
  {
   "cell_type": "code",
   "execution_count": 57,
   "metadata": {
    "colab": {
     "base_uri": "https://localhost:8080/"
    },
    "id": "TpqDL7iTej6i",
    "outputId": "2b16e55e-0c82-4cc9-e055-77244e2ebf6c"
   },
   "outputs": [
    {
     "data": {
      "text/plain": [
       "[TrainEvalCallback,\n",
       " Recorder,\n",
       " ProgressCallback,\n",
       " ShowGraphCallback,\n",
       " ActivationStats,\n",
       " SaveModelCallback,\n",
       " ModelResetter,\n",
       " RNNRegularizer]"
      ]
     },
     "execution_count": 57,
     "metadata": {
      "tags": []
     },
     "output_type": "execute_result"
    }
   ],
   "source": [
    "list(learner.cbs)"
   ]
  },
  {
   "cell_type": "markdown",
   "metadata": {
    "id": "6zxuJx340FQy"
   },
   "source": [
    "The following code shows the layers of the language model:"
   ]
  },
  {
   "cell_type": "code",
   "execution_count": 58,
   "metadata": {
    "colab": {
     "base_uri": "https://localhost:8080/"
    },
    "id": "8LYXMbgQmE6a",
    "outputId": "c4c31129-90ad-4d69-cf65-63324e200f02"
   },
   "outputs": [
    {
     "data": {
      "text/plain": [
       "[Embedding(4664, 400, padding_idx=1),\n",
       " Embedding(4664, 400, padding_idx=1),\n",
       " LSTM(400, 1152, batch_first=True),\n",
       " ParameterModule(),\n",
       " LSTM(1152, 1152, batch_first=True),\n",
       " ParameterModule(),\n",
       " LSTM(1152, 400, batch_first=True),\n",
       " ParameterModule(),\n",
       " Linear(in_features=400, out_features=4664, bias=True)]"
      ]
     },
     "execution_count": 58,
     "metadata": {
      "tags": []
     },
     "output_type": "execute_result"
    }
   ],
   "source": [
    "modules = [m for m in flatten_model(learner.model) if has_params(m)]; modules"
   ]
  },
  {
   "cell_type": "markdown",
   "metadata": {
    "id": "cKhQlRugej6l"
   },
   "source": [
    "And we will do the same for the Learner of the Text Classifier:"
   ]
  },
  {
   "cell_type": "code",
   "execution_count": 68,
   "metadata": {
    "id": "xHaICN6Sej6m"
   },
   "outputs": [],
   "source": [
    "learn = text_classifier_learner(tc_dls, AWD_LSTM, drop_mult=0.5, cbs=cbs, metrics=[accuracy, F1Score(average='micro')]).to_fp16()"
   ]
  },
  {
   "cell_type": "code",
   "execution_count": 60,
   "metadata": {
    "colab": {
     "base_uri": "https://localhost:8080/"
    },
    "id": "K_ASGSibFyhp",
    "outputId": "eda05add-7ad9-401f-df4a-b7dc8d3cf074"
   },
   "outputs": [
    {
     "data": {
      "text/plain": [
       "[TrainEvalCallback,\n",
       " Recorder,\n",
       " ProgressCallback,\n",
       " ShowGraphCallback,\n",
       " ActivationStats,\n",
       " SaveModelCallback,\n",
       " ModelResetter,\n",
       " RNNRegularizer,\n",
       " ModelToHalf,\n",
       " MixedPrecision]"
      ]
     },
     "execution_count": 60,
     "metadata": {
      "tags": []
     },
     "output_type": "execute_result"
    }
   ],
   "source": [
    "list(learn.cbs)"
   ]
  },
  {
   "cell_type": "markdown",
   "metadata": {
    "id": "xbecWlLjzu-a"
   },
   "source": [
    "By default when we load a pretrained model with the `language_model_learner`, not all the layers are trainable, to see which layers are potentially trainable we use the following code:"
   ]
  },
  {
   "cell_type": "code",
   "execution_count": 61,
   "metadata": {
    "id": "OYnVWHah8iZE"
   },
   "outputs": [],
   "source": [
    "def requires_grad_bool(m:nn.Module)->Optional[bool]:\n",
    "    ps = list(m.parameters())\n",
    "    return ps[0].requires_grad\n",
    "\n",
    "def trainable_layers(learn):\n",
    "  modules = [m for m in flatten_model(learn.model) if has_params(m)]\n",
    "  for it in modules:\n",
    "    print(f\"{requires_grad_bool(it)}  -- \",it)"
   ]
  },
  {
   "cell_type": "code",
   "execution_count": 62,
   "metadata": {
    "colab": {
     "base_uri": "https://localhost:8080/"
    },
    "id": "hu5TRoii1_oy",
    "outputId": "60cb498e-0b75-443d-d914-e1d1b6afe6e3"
   },
   "outputs": [
    {
     "name": "stdout",
     "output_type": "stream",
     "text": [
      "True  --  Embedding(4664, 400, padding_idx=1)\n",
      "True  --  Embedding(4664, 400, padding_idx=1)\n",
      "False  --  LSTM(400, 1152, batch_first=True)\n",
      "False  --  ParameterModule()\n",
      "False  --  LSTM(1152, 1152, batch_first=True)\n",
      "False  --  ParameterModule()\n",
      "False  --  LSTM(1152, 400, batch_first=True)\n",
      "False  --  ParameterModule()\n",
      "True  --  Linear(in_features=400, out_features=4664, bias=True)\n"
     ]
    }
   ],
   "source": [
    "trainable_layers(learner)"
   ]
  },
  {
   "cell_type": "markdown",
   "metadata": {
    "id": "tyG0R1JSjB2Q"
   },
   "source": [
    "Now we are going to try to find the best learning rate for our models, in order to do so I recommend to check the follwing question asked in stackoverflow --> [choosing-the-learning-rate-using-fastais-learn-lr-find](https://stackoverflow.com/questions/61172627/choosing-the-learning-rate-using-fastais-learn-lr-find)\n"
   ]
  },
  {
   "cell_type": "code",
   "execution_count": 63,
   "metadata": {
    "colab": {
     "base_uri": "https://localhost:8080/",
     "height": 300
    },
    "id": "k4c4PgrNej6p",
    "outputId": "cc7f1b91-3214-42b0-f770-3152d258bab9"
   },
   "outputs": [
    {
     "data": {
      "text/html": [],
      "text/plain": [
       "<IPython.core.display.HTML object>"
      ]
     },
     "metadata": {
      "tags": []
     },
     "output_type": "display_data"
    },
    {
     "data": {
      "text/plain": [
       "SuggestedLRs(lr_min=0.06309573650360108, lr_steep=0.033113110810518265)"
      ]
     },
     "execution_count": 63,
     "metadata": {
      "tags": []
     },
     "output_type": "execute_result"
    },
    {
     "data": {
      "image/png": "[encoded data removed]",
      "text/plain": [
       "<Figure size 432x288 with 1 Axes>"
      ]
     },
     "metadata": {
      "needs_background": "light",
      "tags": []
     },
     "output_type": "display_data"
    }
   ],
   "source": [
    "learner.lr_find()"
   ]
  },
  {
   "cell_type": "code",
   "execution_count": 64,
   "metadata": {
    "colab": {
     "base_uri": "https://localhost:8080/",
     "height": 300
    },
    "id": "Ioubr-M1ej62",
    "outputId": "0edbfb05-7aa7-40d1-8491-cd3fec89ff40"
   },
   "outputs": [
    {
     "data": {
      "text/html": [],
      "text/plain": [
       "<IPython.core.display.HTML object>"
      ]
     },
     "metadata": {
      "tags": []
     },
     "output_type": "display_data"
    },
    {
     "data": {
      "text/plain": [
       "SuggestedLRs(lr_min=0.014454397559165954, lr_steep=0.12022644281387329)"
      ]
     },
     "execution_count": 64,
     "metadata": {
      "tags": []
     },
     "output_type": "execute_result"
    },
    {
     "data": {
      "image/png": "[encoded data removed]",
      "text/plain": [
       "<Figure size 432x288 with 1 Axes>"
      ]
     },
     "metadata": {
      "needs_background": "light",
      "tags": []
     },
     "output_type": "display_data"
    }
   ],
   "source": [
    "learn.lr_find()"
   ]
  },
  {
   "cell_type": "markdown",
   "metadata": {
    "id": "BmealYs1ej64"
   },
   "source": [
    "Now let's follow the receipt from Jeremy Howard in his [paper](https://arxiv.org/abs/1801.06146). It is important to understand whats the difference between `fit`and `fit_one_cycle` (for that take a look [here](https://iconof.com/1cycle-learning-rate-policy/)). Also as you will see we will progressively unfreeze the layers during training, this is seen to perform better than just `fit`."
   ]
  },
  {
   "cell_type": "code",
   "execution_count": 65,
   "metadata": {
    "id": "YLZcZQQlej64"
   },
   "outputs": [],
   "source": [
    "??learner.fit_one_cycle"
   ]
  },
  {
   "cell_type": "code",
   "execution_count": 66,
   "metadata": {
    "colab": {
     "base_uri": "https://localhost:8080/",
     "height": 930
    },
    "id": "IM4JvcfEej67",
    "outputId": "afad9505-4180-4b10-9980-e1310103d2b8"
   },
   "outputs": [
    {
     "data": {
      "text/html": [
       "<table border=\"1\" class=\"dataframe\">\n",
       "  <thead>\n",
       "    <tr style=\"text-align: left;\">\n",
       "      <th>epoch</th>\n",
       "      <th>train_loss</th>\n",
       "      <th>valid_loss</th>\n",
       "      <th>accuracy</th>\n",
       "      <th>time</th>\n",
       "    </tr>\n",
       "  </thead>\n",
       "  <tbody>\n",
       "    <tr>\n",
       "      <td>0</td>\n",
       "      <td>5.550419</td>\n",
       "      <td>4.438898</td>\n",
       "      <td>0.216756</td>\n",
       "      <td>00:23</td>\n",
       "    </tr>\n",
       "    <tr>\n",
       "      <td>1</td>\n",
       "      <td>4.756847</td>\n",
       "      <td>4.039219</td>\n",
       "      <td>0.260647</td>\n",
       "      <td>00:24</td>\n",
       "    </tr>\n",
       "    <tr>\n",
       "      <td>2</td>\n",
       "      <td>4.391785</td>\n",
       "      <td>3.959997</td>\n",
       "      <td>0.267890</td>\n",
       "      <td>00:24</td>\n",
       "    </tr>\n",
       "    <tr>\n",
       "      <td>3</td>\n",
       "      <td>4.186729</td>\n",
       "      <td>3.925690</td>\n",
       "      <td>0.273532</td>\n",
       "      <td>00:24</td>\n",
       "    </tr>\n",
       "    <tr>\n",
       "      <td>4</td>\n",
       "      <td>4.053167</td>\n",
       "      <td>3.907963</td>\n",
       "      <td>0.274618</td>\n",
       "      <td>00:24</td>\n",
       "    </tr>\n",
       "    <tr>\n",
       "      <td>5</td>\n",
       "      <td>3.956077</td>\n",
       "      <td>3.887491</td>\n",
       "      <td>0.276638</td>\n",
       "      <td>00:24</td>\n",
       "    </tr>\n",
       "    <tr>\n",
       "      <td>6</td>\n",
       "      <td>3.874323</td>\n",
       "      <td>3.876591</td>\n",
       "      <td>0.280016</td>\n",
       "      <td>00:24</td>\n",
       "    </tr>\n",
       "    <tr>\n",
       "      <td>7</td>\n",
       "      <td>3.820242</td>\n",
       "      <td>3.867254</td>\n",
       "      <td>0.281670</td>\n",
       "      <td>00:24</td>\n",
       "    </tr>\n",
       "    <tr>\n",
       "      <td>8</td>\n",
       "      <td>3.770400</td>\n",
       "      <td>3.862471</td>\n",
       "      <td>0.282145</td>\n",
       "      <td>00:24</td>\n",
       "    </tr>\n",
       "    <tr>\n",
       "      <td>9</td>\n",
       "      <td>3.728679</td>\n",
       "      <td>3.861717</td>\n",
       "      <td>0.282335</td>\n",
       "      <td>00:24</td>\n",
       "    </tr>\n",
       "  </tbody>\n",
       "</table>"
      ],
      "text/plain": [
       "<IPython.core.display.HTML object>"
      ]
     },
     "metadata": {
      "tags": []
     },
     "output_type": "display_data"
    },
    {
     "data": {
      "image/png": "[encoded data removed]",
      "text/plain": [
       "<Figure size 432x288 with 1 Axes>"
      ]
     },
     "metadata": {
      "tags": []
     },
     "output_type": "display_data"
    },
    {
     "name": "stdout",
     "output_type": "stream",
     "text": [
      "Better model found at epoch 0 with valid_loss value: 4.438898086547852.\n",
      "Better model found at epoch 1 with valid_loss value: 4.039219379425049.\n",
      "Better model found at epoch 2 with valid_loss value: 3.9599967002868652.\n",
      "Better model found at epoch 3 with valid_loss value: 3.925690174102783.\n",
      "Better model found at epoch 4 with valid_loss value: 3.9079630374908447.\n",
      "Better model found at epoch 5 with valid_loss value: 3.8874905109405518.\n",
      "Better model found at epoch 6 with valid_loss value: 3.876591205596924.\n",
      "Better model found at epoch 7 with valid_loss value: 3.8672544956207275.\n",
      "Better model found at epoch 8 with valid_loss value: 3.8624706268310547.\n",
      "Better model found at epoch 9 with valid_loss value: 3.8617172241210938.\n",
      "True  --  Embedding(4664, 400, padding_idx=1)\n",
      "True  --  Embedding(4664, 400, padding_idx=1)\n",
      "False  --  LSTM(400, 1152, batch_first=True)\n",
      "False  --  ParameterModule()\n",
      "False  --  LSTM(1152, 1152, batch_first=True)\n",
      "False  --  ParameterModule()\n",
      "False  --  LSTM(1152, 400, batch_first=True)\n",
      "False  --  ParameterModule()\n",
      "True  --  Linear(in_features=400, out_features=4664, bias=True)\n"
     ]
    }
   ],
   "source": [
    "learner.fit_one_cycle(10, 2e-2)\n",
    "trainable_layers(learner)\n",
    "learner.save('language_model')\n",
    "learner.save_encoder('finetuned')"
   ]
  },
  {
   "cell_type": "code",
   "execution_count": 69,
   "metadata": {
    "colab": {
     "base_uri": "https://localhost:8080/",
     "height": 1000
    },
    "id": "DSwpJ0TAej7g",
    "outputId": "1a07abed-c1d1-455a-c582-e520d7d9ec54"
   },
   "outputs": [
    {
     "data": {
      "text/html": [
       "<table border=\"1\" class=\"dataframe\">\n",
       "  <thead>\n",
       "    <tr style=\"text-align: left;\">\n",
       "      <th>epoch</th>\n",
       "      <th>train_loss</th>\n",
       "      <th>valid_loss</th>\n",
       "      <th>accuracy</th>\n",
       "      <th>f1_score</th>\n",
       "      <th>time</th>\n",
       "    </tr>\n",
       "  </thead>\n",
       "  <tbody>\n",
       "    <tr>\n",
       "      <td>0</td>\n",
       "      <td>0.989086</td>\n",
       "      <td>0.700236</td>\n",
       "      <td>0.754098</td>\n",
       "      <td>0.754098</td>\n",
       "      <td>00:18</td>\n",
       "    </tr>\n",
       "    <tr>\n",
       "      <td>1</td>\n",
       "      <td>0.828528</td>\n",
       "      <td>0.584659</td>\n",
       "      <td>0.771858</td>\n",
       "      <td>0.771858</td>\n",
       "      <td>00:18</td>\n",
       "    </tr>\n",
       "    <tr>\n",
       "      <td>2</td>\n",
       "      <td>0.765317</td>\n",
       "      <td>0.568037</td>\n",
       "      <td>0.774932</td>\n",
       "      <td>0.774932</td>\n",
       "      <td>00:18</td>\n",
       "    </tr>\n",
       "    <tr>\n",
       "      <td>3</td>\n",
       "      <td>0.745285</td>\n",
       "      <td>0.566376</td>\n",
       "      <td>0.771516</td>\n",
       "      <td>0.771516</td>\n",
       "      <td>00:18</td>\n",
       "    </tr>\n",
       "    <tr>\n",
       "      <td>4</td>\n",
       "      <td>0.703175</td>\n",
       "      <td>0.541595</td>\n",
       "      <td>0.784153</td>\n",
       "      <td>0.784153</td>\n",
       "      <td>00:18</td>\n",
       "    </tr>\n",
       "    <tr>\n",
       "      <td>5</td>\n",
       "      <td>0.676665</td>\n",
       "      <td>0.538064</td>\n",
       "      <td>0.786544</td>\n",
       "      <td>0.786544</td>\n",
       "      <td>00:19</td>\n",
       "    </tr>\n",
       "    <tr>\n",
       "      <td>6</td>\n",
       "      <td>0.676743</td>\n",
       "      <td>0.530450</td>\n",
       "      <td>0.789959</td>\n",
       "      <td>0.789959</td>\n",
       "      <td>00:18</td>\n",
       "    </tr>\n",
       "    <tr>\n",
       "      <td>7</td>\n",
       "      <td>0.690014</td>\n",
       "      <td>0.532685</td>\n",
       "      <td>0.789617</td>\n",
       "      <td>0.789617</td>\n",
       "      <td>00:18</td>\n",
       "    </tr>\n",
       "    <tr>\n",
       "      <td>8</td>\n",
       "      <td>0.651238</td>\n",
       "      <td>0.532131</td>\n",
       "      <td>0.792350</td>\n",
       "      <td>0.792350</td>\n",
       "      <td>00:18</td>\n",
       "    </tr>\n",
       "    <tr>\n",
       "      <td>9</td>\n",
       "      <td>0.630313</td>\n",
       "      <td>0.531096</td>\n",
       "      <td>0.794057</td>\n",
       "      <td>0.794057</td>\n",
       "      <td>00:18</td>\n",
       "    </tr>\n",
       "    <tr>\n",
       "      <td>10</td>\n",
       "      <td>0.625740</td>\n",
       "      <td>0.525777</td>\n",
       "      <td>0.800205</td>\n",
       "      <td>0.800205</td>\n",
       "      <td>00:18</td>\n",
       "    </tr>\n",
       "    <tr>\n",
       "      <td>11</td>\n",
       "      <td>0.635310</td>\n",
       "      <td>0.525942</td>\n",
       "      <td>0.795424</td>\n",
       "      <td>0.795423</td>\n",
       "      <td>00:18</td>\n",
       "    </tr>\n",
       "  </tbody>\n",
       "</table>"
      ],
      "text/plain": [
       "<IPython.core.display.HTML object>"
      ]
     },
     "metadata": {
      "tags": []
     },
     "output_type": "display_data"
    },
    {
     "data": {
      "image/png": "[encoded data removed]",
      "text/plain": [
       "<Figure size 432x288 with 1 Axes>"
      ]
     },
     "metadata": {
      "tags": []
     },
     "output_type": "display_data"
    },
    {
     "name": "stdout",
     "output_type": "stream",
     "text": [
      "Better model found at epoch 0 with valid_loss value: 0.7002357244491577.\n",
      "Better model found at epoch 1 with valid_loss value: 0.5846593379974365.\n",
      "Better model found at epoch 2 with valid_loss value: 0.5680373311042786.\n",
      "Better model found at epoch 3 with valid_loss value: 0.5663756132125854.\n",
      "Better model found at epoch 4 with valid_loss value: 0.5415945053100586.\n",
      "Better model found at epoch 5 with valid_loss value: 0.5380640625953674.\n",
      "Better model found at epoch 6 with valid_loss value: 0.5304495692253113.\n",
      "Better model found at epoch 10 with valid_loss value: 0.5257765054702759.\n",
      "\n",
      "\n",
      "False  --  Embedding(4664, 400, padding_idx=1)\n",
      "False  --  Embedding(4664, 400, padding_idx=1)\n",
      "False  --  LSTM(400, 1152, batch_first=True)\n",
      "False  --  ParameterModule()\n",
      "False  --  LSTM(1152, 1152, batch_first=True)\n",
      "False  --  ParameterModule()\n",
      "False  --  LSTM(1152, 400, batch_first=True)\n",
      "False  --  ParameterModule()\n",
      "True  --  BatchNorm1d(1200, eps=1e-05, momentum=0.1, affine=True, track_running_stats=True)\n",
      "True  --  Linear(in_features=1200, out_features=50, bias=False)\n",
      "True  --  BatchNorm1d(50, eps=1e-05, momentum=0.1, affine=True, track_running_stats=True)\n",
      "True  --  Linear(in_features=50, out_features=3, bias=False)\n"
     ]
    }
   ],
   "source": [
    "learn = learn.load_encoder('finetuned')\n",
    "learn.fit_one_cycle(12, 2e-3)\n",
    "print('\\n')\n",
    "trainable_layers(learn)"
   ]
  },
  {
   "cell_type": "code",
   "execution_count": 70,
   "metadata": {
    "colab": {
     "base_uri": "https://localhost:8080/",
     "height": 300
    },
    "id": "gbgE2ssanc9p",
    "outputId": "86869cec-8694-4921-ae1f-7483b04f798c"
   },
   "outputs": [
    {
     "data": {
      "text/html": [],
      "text/plain": [
       "<IPython.core.display.HTML object>"
      ]
     },
     "metadata": {
      "tags": []
     },
     "output_type": "display_data"
    },
    {
     "data": {
      "text/plain": [
       "SuggestedLRs(lr_min=2.290867705596611e-05, lr_steep=2.75422871709452e-06)"
      ]
     },
     "execution_count": 70,
     "metadata": {
      "tags": []
     },
     "output_type": "execute_result"
    },
    {
     "data": {
      "image/png": "[encoded data removed]",
      "text/plain": [
       "<Figure size 432x288 with 1 Axes>"
      ]
     },
     "metadata": {
      "needs_background": "light",
      "tags": []
     },
     "output_type": "display_data"
    }
   ],
   "source": [
    "learn.lr_find()"
   ]
  },
  {
   "cell_type": "code",
   "execution_count": 71,
   "metadata": {
    "colab": {
     "base_uri": "https://localhost:8080/",
     "height": 741
    },
    "id": "_7WWKB3uej7k",
    "outputId": "dbeb50cc-d739-492f-dab7-38feb596171c"
   },
   "outputs": [
    {
     "data": {
      "text/html": [
       "<table border=\"1\" class=\"dataframe\">\n",
       "  <thead>\n",
       "    <tr style=\"text-align: left;\">\n",
       "      <th>epoch</th>\n",
       "      <th>train_loss</th>\n",
       "      <th>valid_loss</th>\n",
       "      <th>accuracy</th>\n",
       "      <th>f1_score</th>\n",
       "      <th>time</th>\n",
       "    </tr>\n",
       "  </thead>\n",
       "  <tbody>\n",
       "    <tr>\n",
       "      <td>0</td>\n",
       "      <td>0.697361</td>\n",
       "      <td>0.554290</td>\n",
       "      <td>0.773566</td>\n",
       "      <td>0.773566</td>\n",
       "      <td>00:19</td>\n",
       "    </tr>\n",
       "    <tr>\n",
       "      <td>1</td>\n",
       "      <td>0.624794</td>\n",
       "      <td>0.521592</td>\n",
       "      <td>0.796107</td>\n",
       "      <td>0.796107</td>\n",
       "      <td>00:19</td>\n",
       "    </tr>\n",
       "    <tr>\n",
       "      <td>2</td>\n",
       "      <td>0.571623</td>\n",
       "      <td>0.502091</td>\n",
       "      <td>0.804986</td>\n",
       "      <td>0.804986</td>\n",
       "      <td>00:19</td>\n",
       "    </tr>\n",
       "    <tr>\n",
       "      <td>3</td>\n",
       "      <td>0.473452</td>\n",
       "      <td>0.503387</td>\n",
       "      <td>0.804986</td>\n",
       "      <td>0.804986</td>\n",
       "      <td>00:19</td>\n",
       "    </tr>\n",
       "    <tr>\n",
       "      <td>4</td>\n",
       "      <td>0.411995</td>\n",
       "      <td>0.514737</td>\n",
       "      <td>0.806694</td>\n",
       "      <td>0.806694</td>\n",
       "      <td>00:19</td>\n",
       "    </tr>\n",
       "  </tbody>\n",
       "</table>"
      ],
      "text/plain": [
       "<IPython.core.display.HTML object>"
      ]
     },
     "metadata": {
      "tags": []
     },
     "output_type": "display_data"
    },
    {
     "data": {
      "image/png": "[encoded data removed]",
      "text/plain": [
       "<Figure size 432x288 with 1 Axes>"
      ]
     },
     "metadata": {
      "tags": []
     },
     "output_type": "display_data"
    },
    {
     "name": "stdout",
     "output_type": "stream",
     "text": [
      "Better model found at epoch 0 with valid_loss value: 0.5542899966239929.\n",
      "Better model found at epoch 1 with valid_loss value: 0.521592378616333.\n",
      "Better model found at epoch 2 with valid_loss value: 0.502090573310852.\n",
      "\n",
      "\n",
      "False  --  Embedding(4664, 400, padding_idx=1)\n",
      "False  --  Embedding(4664, 400, padding_idx=1)\n",
      "False  --  LSTM(400, 1152, batch_first=True)\n",
      "False  --  ParameterModule()\n",
      "False  --  LSTM(1152, 1152, batch_first=True)\n",
      "False  --  ParameterModule()\n",
      "True  --  LSTM(1152, 400, batch_first=True)\n",
      "True  --  ParameterModule()\n",
      "True  --  BatchNorm1d(1200, eps=1e-05, momentum=0.1, affine=True, track_running_stats=True)\n",
      "True  --  Linear(in_features=1200, out_features=50, bias=False)\n",
      "True  --  BatchNorm1d(50, eps=1e-05, momentum=0.1, affine=True, track_running_stats=True)\n",
      "True  --  Linear(in_features=50, out_features=3, bias=False)\n"
     ]
    }
   ],
   "source": [
    "# REFINING 1\n",
    "learn.load('model')\n",
    "learn.freeze_to(-2)\n",
    "learn.fit_one_cycle(5, slice(1e-2/(2.6**4),1e-2))\n",
    "print('\\n')\n",
    "trainable_layers(learn)"
   ]
  },
  {
   "cell_type": "code",
   "execution_count": 72,
   "metadata": {
    "colab": {
     "base_uri": "https://localhost:8080/",
     "height": 645
    },
    "id": "b6SMyRtbej7p",
    "outputId": "420256aa-92a8-4359-8603-d62f0ca22d70"
   },
   "outputs": [
    {
     "data": {
      "text/html": [
       "<table border=\"1\" class=\"dataframe\">\n",
       "  <thead>\n",
       "    <tr style=\"text-align: left;\">\n",
       "      <th>epoch</th>\n",
       "      <th>train_loss</th>\n",
       "      <th>valid_loss</th>\n",
       "      <th>accuracy</th>\n",
       "      <th>f1_score</th>\n",
       "      <th>time</th>\n",
       "    </tr>\n",
       "  </thead>\n",
       "  <tbody>\n",
       "    <tr>\n",
       "      <td>0</td>\n",
       "      <td>0.499586</td>\n",
       "      <td>0.492810</td>\n",
       "      <td>0.813525</td>\n",
       "      <td>0.813525</td>\n",
       "      <td>00:20</td>\n",
       "    </tr>\n",
       "    <tr>\n",
       "      <td>1</td>\n",
       "      <td>0.435770</td>\n",
       "      <td>0.515791</td>\n",
       "      <td>0.818648</td>\n",
       "      <td>0.818648</td>\n",
       "      <td>00:20</td>\n",
       "    </tr>\n",
       "    <tr>\n",
       "      <td>2</td>\n",
       "      <td>0.344844</td>\n",
       "      <td>0.551675</td>\n",
       "      <td>0.813183</td>\n",
       "      <td>0.813183</td>\n",
       "      <td>00:20</td>\n",
       "    </tr>\n",
       "  </tbody>\n",
       "</table>"
      ],
      "text/plain": [
       "<IPython.core.display.HTML object>"
      ]
     },
     "metadata": {
      "tags": []
     },
     "output_type": "display_data"
    },
    {
     "data": {
      "image/png": "[encoded data removed]",
      "text/plain": [
       "<Figure size 432x288 with 1 Axes>"
      ]
     },
     "metadata": {
      "tags": []
     },
     "output_type": "display_data"
    },
    {
     "name": "stdout",
     "output_type": "stream",
     "text": [
      "Better model found at epoch 0 with valid_loss value: 0.4928099811077118.\n",
      "\n",
      "\n",
      "False  --  Embedding(4664, 400, padding_idx=1)\n",
      "False  --  Embedding(4664, 400, padding_idx=1)\n",
      "False  --  LSTM(400, 1152, batch_first=True)\n",
      "False  --  ParameterModule()\n",
      "True  --  LSTM(1152, 1152, batch_first=True)\n",
      "True  --  ParameterModule()\n",
      "True  --  LSTM(1152, 400, batch_first=True)\n",
      "True  --  ParameterModule()\n",
      "True  --  BatchNorm1d(1200, eps=1e-05, momentum=0.1, affine=True, track_running_stats=True)\n",
      "True  --  Linear(in_features=1200, out_features=50, bias=False)\n",
      "True  --  BatchNorm1d(50, eps=1e-05, momentum=0.1, affine=True, track_running_stats=True)\n",
      "True  --  Linear(in_features=50, out_features=3, bias=False)\n"
     ]
    }
   ],
   "source": [
    "# REFINING 2\n",
    "learn.load('model')\n",
    "learn.freeze_to(-3)\n",
    "learn.fit_one_cycle(3, slice(5e-3/(2.6**4),5e-3))\n",
    "print('\\n')\n",
    "trainable_layers(learn)"
   ]
  },
  {
   "cell_type": "code",
   "execution_count": 73,
   "metadata": {
    "colab": {
     "base_uri": "https://localhost:8080/",
     "height": 617
    },
    "id": "Qmv2NDB0ej7r",
    "outputId": "4e705c45-dc8c-4597-ec50-b475e35f6155"
   },
   "outputs": [
    {
     "data": {
      "text/html": [
       "<table border=\"1\" class=\"dataframe\">\n",
       "  <thead>\n",
       "    <tr style=\"text-align: left;\">\n",
       "      <th>epoch</th>\n",
       "      <th>train_loss</th>\n",
       "      <th>valid_loss</th>\n",
       "      <th>accuracy</th>\n",
       "      <th>f1_score</th>\n",
       "      <th>time</th>\n",
       "    </tr>\n",
       "  </thead>\n",
       "  <tbody>\n",
       "    <tr>\n",
       "      <td>0</td>\n",
       "      <td>0.397391</td>\n",
       "      <td>0.500124</td>\n",
       "      <td>0.814208</td>\n",
       "      <td>0.814208</td>\n",
       "      <td>00:21</td>\n",
       "    </tr>\n",
       "    <tr>\n",
       "      <td>1</td>\n",
       "      <td>0.368652</td>\n",
       "      <td>0.503436</td>\n",
       "      <td>0.814891</td>\n",
       "      <td>0.814891</td>\n",
       "      <td>00:21</td>\n",
       "    </tr>\n",
       "  </tbody>\n",
       "</table>"
      ],
      "text/plain": [
       "<IPython.core.display.HTML object>"
      ]
     },
     "metadata": {
      "tags": []
     },
     "output_type": "display_data"
    },
    {
     "data": {
      "image/png": "[encoded data removed]",
      "text/plain": [
       "<Figure size 432x288 with 1 Axes>"
      ]
     },
     "metadata": {
      "tags": []
     },
     "output_type": "display_data"
    },
    {
     "name": "stdout",
     "output_type": "stream",
     "text": [
      "Better model found at epoch 0 with valid_loss value: 0.5001243352890015.\n",
      "\n",
      "\n",
      "True  --  Embedding(4664, 400, padding_idx=1)\n",
      "True  --  Embedding(4664, 400, padding_idx=1)\n",
      "True  --  LSTM(400, 1152, batch_first=True)\n",
      "True  --  ParameterModule()\n",
      "True  --  LSTM(1152, 1152, batch_first=True)\n",
      "True  --  ParameterModule()\n",
      "True  --  LSTM(1152, 400, batch_first=True)\n",
      "True  --  ParameterModule()\n",
      "True  --  BatchNorm1d(1200, eps=1e-05, momentum=0.1, affine=True, track_running_stats=True)\n",
      "True  --  Linear(in_features=1200, out_features=50, bias=False)\n",
      "True  --  BatchNorm1d(50, eps=1e-05, momentum=0.1, affine=True, track_running_stats=True)\n",
      "True  --  Linear(in_features=50, out_features=3, bias=False)\n"
     ]
    }
   ],
   "source": [
    "# REFINING 3\n",
    "learn.load('model')\n",
    "learn.unfreeze()\n",
    "learn.fit_one_cycle(2, slice(1e-3/(2.6**4),1e-3))\n",
    "print('\\n')\n",
    "trainable_layers(learn)"
   ]
  },
  {
   "cell_type": "markdown",
   "metadata": {
    "id": "JTJP1wEso81R"
   },
   "source": [
    "We reach an accuracy of 83% fo tweet classification, not bad! "
   ]
  },
  {
   "cell_type": "markdown",
   "metadata": {
    "id": "d4b38WNtej79"
   },
   "source": [
    "You can now test the language model; you can use it to create inventend sentences and see if they make sense. The more the invented sentences look like made by a person the better trained the language model."
   ]
  },
  {
   "cell_type": "code",
   "execution_count": 74,
   "metadata": {
    "id": "PPPwYVoHej8A"
   },
   "outputs": [],
   "source": [
    "learner = learner.load('language_model')"
   ]
  },
  {
   "cell_type": "code",
   "execution_count": 75,
   "metadata": {
    "colab": {
     "base_uri": "https://localhost:8080/",
     "height": 35
    },
    "id": "ADNaK17hej8G",
    "outputId": "c535432b-bbbc-440e-eac1-232fd89ff4fd",
    "scrolled": true
   },
   "outputs": [
    {
     "data": {
      "text/html": [],
      "text/plain": [
       "<IPython.core.display.HTML object>"
      ]
     },
     "metadata": {
      "tags": []
     },
     "output_type": "display_data"
    },
    {
     "data": {
      "application/vnd.google.colaboratory.intrinsic+json": {
       "type": "string"
      },
      "text/plain": [
       "\"Never flying with them again , so they do n't know what to do with that\""
      ]
     },
     "execution_count": 75,
     "metadata": {
      "tags": []
     },
     "output_type": "execute_result"
    }
   ],
   "source": [
    "learner.predict(\"Never\", 15, temperature=0.75) "
   ]
  },
  {
   "cell_type": "markdown",
   "metadata": {
    "id": "14PtCjptfil5"
   },
   "source": [
    "## Statistics of the training"
   ]
  },
  {
   "cell_type": "code",
   "execution_count": 77,
   "metadata": {
    "colab": {
     "base_uri": "https://localhost:8080/"
    },
    "id": "0cBgyw3rromi",
    "outputId": "61369b9a-0c92-4ff8-be74-a32a098b2c07"
   },
   "outputs": [
    {
     "data": {
      "text/plain": [
       "[]"
      ]
     },
     "execution_count": 77,
     "metadata": {
      "tags": []
     },
     "output_type": "execute_result"
    }
   ],
   "source": [
    "list(learner.activation_stats.stats)"
   ]
  },
  {
   "cell_type": "code",
   "execution_count": null,
   "metadata": {
    "colab": {
     "base_uri": "https://localhost:8080/",
     "height": 227
    },
    "id": "B6PUztGarxXJ",
    "outputId": "0fe4a9a7-4600-4af8-c733-182c0acd5e8e"
   },
   "outputs": [
    {
     "data": {
      "image/png": "[encoded data removed]",
      "text/plain": [
       "<Figure size 864x216 with 3 Axes>"
      ]
     },
     "metadata": {
      "needs_background": "light",
      "tags": []
     },
     "output_type": "display_data"
    }
   ],
   "source": [
    "learner.activation_stats.plot_layer_stats(8)"
   ]
  },
  {
   "cell_type": "code",
   "execution_count": null,
   "metadata": {
    "colab": {
     "base_uri": "https://localhost:8080/",
     "height": 92
    },
    "id": "qmQPvtIPv8nT",
    "outputId": "51a49485-d096-4efe-83b8-d79a6f869e70"
   },
   "outputs": [
    {
     "data": {
      "image/png": "[encoded data removed]",
      "text/plain": [
       "<Figure size 720x360 with 1 Axes>"
      ]
     },
     "metadata": {
      "needs_background": "light",
      "tags": []
     },
     "output_type": "display_data"
    }
   ],
   "source": [
    "learner.activation_stats.color_dim(8)"
   ]
  },
  {
   "cell_type": "markdown",
   "metadata": {
    "id": "QQHEFDLRej8V"
   },
   "source": [
    "## Asses model performance"
   ]
  },
  {
   "cell_type": "code",
   "execution_count": 78,
   "metadata": {
    "colab": {
     "base_uri": "https://localhost:8080/",
     "height": 34
    },
    "id": "nrHIgwqTLOe3",
    "outputId": "0207db40-96d4-410e-e9f3-e924ee765e70"
   },
   "outputs": [
    {
     "data": {
      "text/html": [],
      "text/plain": [
       "<IPython.core.display.HTML object>"
      ]
     },
     "metadata": {
      "tags": []
     },
     "output_type": "display_data"
    },
    {
     "data": {
      "text/plain": [
       "(('negative', TensorText(0), TensorText([0.9753, 0.0221, 0.0026])), 'negative')"
      ]
     },
     "execution_count": 78,
     "metadata": {
      "tags": []
     },
     "output_type": "execute_result"
    }
   ],
   "source": [
    "n= 1392\n",
    "learn.predict(tweets.text[n]), tweets.airline_sentiment[n]"
   ]
  },
  {
   "cell_type": "code",
   "execution_count": 79,
   "metadata": {
    "colab": {
     "base_uri": "https://localhost:8080/",
     "height": 52
    },
    "id": "mlxthbjVMibS",
    "outputId": "de07af53-1c20-4583-f28f-b5be17ca11f3"
   },
   "outputs": [
    {
     "data": {
      "application/vnd.google.colaboratory.intrinsic+json": {
       "type": "string"
      },
      "text/plain": [
       "'@united I am a loyal Premier Platinum member, but the lack of communication was really bad. Also, i don’t see that it has taken off yet'"
      ]
     },
     "execution_count": 79,
     "metadata": {
      "tags": []
     },
     "output_type": "execute_result"
    }
   ],
   "source": [
    "tweets.text[n]"
   ]
  },
  {
   "cell_type": "code",
   "execution_count": 80,
   "metadata": {
    "colab": {
     "base_uri": "https://localhost:8080/",
     "height": 17
    },
    "id": "ExyZeJocQR-h",
    "outputId": "0b78c1ee-5c33-4a95-a220-07fa070cff3c"
   },
   "outputs": [
    {
     "data": {
      "text/html": [],
      "text/plain": [
       "<IPython.core.display.HTML object>"
      ]
     },
     "metadata": {
      "tags": []
     },
     "output_type": "display_data"
    }
   ],
   "source": [
    "clas_int = ClassificationInterpretation.from_learner(learn)"
   ]
  },
  {
   "cell_type": "markdown",
   "metadata": {
    "id": "eqOG8osZJ0US"
   },
   "source": [
    "Here you can see that there is a Bias wtr to negative classification. This is because in the dataset most of the tweets are negative!"
   ]
  },
  {
   "cell_type": "code",
   "execution_count": 81,
   "metadata": {
    "colab": {
     "base_uri": "https://localhost:8080/",
     "height": 311
    },
    "id": "NZLVD4jLQaao",
    "outputId": "af044f03-6715-40ab-e78e-e53910daf532"
   },
   "outputs": [
    {
     "data": {
      "image/png": "[encoded data removed]",
      "text/plain": [
       "<Figure size 432x288 with 1 Axes>"
      ]
     },
     "metadata": {
      "needs_background": "light",
      "tags": []
     },
     "output_type": "display_data"
    }
   ],
   "source": [
    "clas_int.plot_confusion_matrix()"
   ]
  },
  {
   "cell_type": "code",
   "execution_count": 82,
   "metadata": {
    "colab": {
     "base_uri": "https://localhost:8080/"
    },
    "id": "pwQuFCcCb_HK",
    "outputId": "a78a5a56-8364-4022-ab24-eb63545ae742"
   },
   "outputs": [
    {
     "name": "stdout",
     "output_type": "stream",
     "text": [
      "              precision    recall  f1-score   support\n",
      "\n",
      "    negative       0.84      0.93      0.88      1792\n",
      "     neutral       0.75      0.55      0.63       648\n",
      "    positive       0.76      0.75      0.76       488\n",
      "\n",
      "    accuracy                           0.81      2928\n",
      "   macro avg       0.78      0.74      0.76      2928\n",
      "weighted avg       0.81      0.81      0.81      2928\n",
      "\n"
     ]
    }
   ],
   "source": [
    "clas_int.print_classification_report()"
   ]
  },
  {
   "cell_type": "code",
   "execution_count": 83,
   "metadata": {
    "colab": {
     "base_uri": "https://localhost:8080/"
    },
    "id": "WqU8K6FHQqFj",
    "outputId": "3f6a0a67-622a-4719-b1a6-3cd2459bafe9"
   },
   "outputs": [
    {
     "data": {
      "text/plain": [
       "torch.return_types.topk(values=TensorText([9.3969e+00, 8.7445e+00, 8.6144e+00,  ..., 7.9867e-05, 7.7483e-05,\n",
       "        3.1948e-05]), indices=TensorText([1289,  243, 1511,  ..., 1292,  972, 2587]))"
      ]
     },
     "execution_count": 83,
     "metadata": {
      "tags": []
     },
     "output_type": "execute_result"
    }
   ],
   "source": [
    "clas_int.top_losses()"
   ]
  },
  {
   "cell_type": "code",
   "execution_count": null,
   "metadata": {
    "colab": {
     "base_uri": "https://localhost:8080/"
    },
    "id": "4C11DBpufbzp",
    "outputId": "e7fedbe3-efcb-4ec5-bf07-48291ac151ab"
   },
   "outputs": [
    {
     "data": {
      "text/plain": [
       "(#3) ['negative','neutral','positive']"
      ]
     },
     "execution_count": 58,
     "metadata": {
      "tags": []
     },
     "output_type": "execute_result"
    }
   ],
   "source": [
    "tc_dls.vocab[1]"
   ]
  },
  {
   "cell_type": "code",
   "execution_count": 85,
   "metadata": {
    "colab": {
     "base_uri": "https://localhost:8080/",
     "height": 17
    },
    "id": "uHAyYhyVe4PL",
    "outputId": "6975bbfb-2f72-48ac-ec09-13e85bfbaffe"
   },
   "outputs": [
    {
     "data": {
      "text/html": [],
      "text/plain": [
       "<IPython.core.display.HTML object>"
      ]
     },
     "metadata": {
      "tags": []
     },
     "output_type": "display_data"
    }
   ],
   "source": [
    "preds = learn.get_preds(dl=tc_dls[1], with_input=True, with_loss=True, with_decoded=True, act=None)"
   ]
  },
  {
   "cell_type": "markdown",
   "metadata": {
    "id": "bODLVjCAe_Jf"
   },
   "source": [
    "The variable predicts contains the following information: \n",
    "\n",
    "0.   inputs\n",
    "1.   predictions\n",
    "2.   targets\n",
    "3. decoded\n",
    "4. losses"
   ]
  },
  {
   "cell_type": "code",
   "execution_count": null,
   "metadata": {
    "colab": {
     "base_uri": "https://localhost:8080/",
     "height": 34
    },
    "id": "ETB9AiRYglLW",
    "outputId": "661b3046-c405-4d75-ee9e-67ab1091540d"
   },
   "outputs": [
    {
     "data": {
      "text/plain": [
       "0.8244535519125683"
      ]
     },
     "execution_count": 37,
     "metadata": {
      "tags": []
     },
     "output_type": "execute_result"
    }
   ],
   "source": [
    "torch.sum(preds[3] == preds[2]).item()/len(preds[3])"
   ]
  },
  {
   "cell_type": "code",
   "execution_count": 89,
   "metadata": {
    "id": "db3VsEpDhQZd"
   },
   "outputs": [],
   "source": [
    "matches = preds[3] == preds[2]"
   ]
  },
  {
   "cell_type": "code",
   "execution_count": 90,
   "metadata": {
    "id": "Ic3CUCHSfEIC"
   },
   "outputs": [],
   "source": [
    "decoded_valid = L(zip(lm_dls.valid_ds.decode(preds[0]),\n",
    "                      list(map(lambda x: tc_dls.vocab[1][x], preds[2].tolist())),\n",
    "                      list(map(lambda x: tc_dls.vocab[1][x], preds[3].tolist()))))"
   ]
  },
  {
   "cell_type": "code",
   "execution_count": 91,
   "metadata": {
    "id": "lbK7zZOeN--X"
   },
   "outputs": [],
   "source": [
    "df = pd.DataFrame(list(decoded_valid[~matches]), columns =['tweet', 'Truth', 'Computed']) "
   ]
  },
  {
   "cell_type": "code",
   "execution_count": null,
   "metadata": {
    "colab": {
     "base_uri": "https://localhost:8080/",
     "height": 1000
    },
    "id": "6FL1dceJOg9w",
    "outputId": "80dc7a09-9d13-4155-941d-9356778b836f"
   },
   "outputs": [],
   "source": [
    "display(HTML(df.to_html(index=False)))"
   ]
  },
  {
   "cell_type": "markdown",
   "metadata": {
    "id": "aYMbZsRoej8X"
   },
   "source": [
    "In order to know if we are getting a good performance, we can compare our model training to a benchmark. We can use the IMDB dataset from fastai and see if we get a similar performance or not. "
   ]
  },
  {
   "cell_type": "code",
   "execution_count": null,
   "metadata": {
    "colab": {
     "base_uri": "https://localhost:8080/",
     "height": 17
    },
    "id": "XGRIJ2VSej8Y",
    "outputId": "1f59af21-841a-414b-a52e-1c41fa617a37"
   },
   "outputs": [
    {
     "data": {
      "text/html": [],
      "text/plain": [
       "<IPython.core.display.HTML object>"
      ]
     },
     "metadata": {
      "tags": []
     },
     "output_type": "display_data"
    }
   ],
   "source": [
    "path = untar_data(URLs.IMDB_SAMPLE)\n",
    "imdb = pd.read_csv(path/'texts.csv')"
   ]
  },
  {
   "cell_type": "code",
   "execution_count": null,
   "metadata": {
    "colab": {
     "base_uri": "https://localhost:8080/",
     "height": 595
    },
    "id": "Ad9-8DJGej8c",
    "outputId": "19bb67b7-55ac-443d-a796-670658b8dae7"
   },
   "outputs": [
    {
     "data": {
      "text/html": [
       "<div>\n",
       "<style scoped>\n",
       "    .dataframe tbody tr th:only-of-type {\n",
       "        vertical-align: middle;\n",
       "    }\n",
       "\n",
       "    .dataframe tbody tr th {\n",
       "        vertical-align: top;\n",
       "    }\n",
       "\n",
       "    .dataframe thead th {\n",
       "        text-align: right;\n",
       "    }\n",
       "</style>\n",
       "<table border=\"1\" class=\"dataframe\">\n",
       "  <thead>\n",
       "    <tr style=\"text-align: right;\">\n",
       "      <th></th>\n",
       "      <th>label</th>\n",
       "      <th>text</th>\n",
       "      <th>is_valid</th>\n",
       "    </tr>\n",
       "  </thead>\n",
       "  <tbody>\n",
       "    <tr>\n",
       "      <th>0</th>\n",
       "      <td>negative</td>\n",
       "      <td>Un-bleeping-believable! Meg Ryan doesn't even look her usual pert lovable self in this, which normally makes me forgive her shallow ticky acting schtick. Hard to believe she was the producer on this dog. Plus Kevin Kline: what kind of suicide trip has his career been on? Whoosh... Banzai!!! Finally this was directed by the guy who did Big Chill? Must be a replay of Jonestown - hollywood style. Wooofff!</td>\n",
       "      <td>False</td>\n",
       "    </tr>\n",
       "    <tr>\n",
       "      <th>1</th>\n",
       "      <td>positive</td>\n",
       "      <td>This is a extremely well-made film. The acting, script and camera-work are all first-rate. The music is good, too, though it is mostly early in the film, when things are still relatively cheery. There are no really superstars in the cast, though several faces will be familiar. The entire cast does an excellent job with the script.&lt;br /&gt;&lt;br /&gt;But it is hard to watch, because there is no good end to a situation like the one presented. It is now fashionable to blame the British for setting Hindus and Muslims against each other, and then cruelly separating them into two countries. There is som...</td>\n",
       "      <td>False</td>\n",
       "    </tr>\n",
       "    <tr>\n",
       "      <th>2</th>\n",
       "      <td>negative</td>\n",
       "      <td>Every once in a long while a movie will come along that will be so awful that I feel compelled to warn people. If I labor all my days and I can save but one soul from watching this movie, how great will be my joy.&lt;br /&gt;&lt;br /&gt;Where to begin my discussion of pain. For starters, there was a musical montage every five minutes. There was no character development. Every character was a stereotype. We had swearing guy, fat guy who eats donuts, goofy foreign guy, etc. The script felt as if it were being written as the movie was being shot. The production value was so incredibly low that it felt li...</td>\n",
       "      <td>False</td>\n",
       "    </tr>\n",
       "    <tr>\n",
       "      <th>3</th>\n",
       "      <td>positive</td>\n",
       "      <td>Name just says it all. I watched this movie with my dad when it came out and having served in Korea he had great admiration for the man. The disappointing thing about this film is that it only concentrate on a short period of the man's life - interestingly enough the man's entire life would have made such an epic bio-pic that it is staggering to imagine the cost for production.&lt;br /&gt;&lt;br /&gt;Some posters elude to the flawed characteristics about the man, which are cheap shots. The theme of the movie \"Duty, Honor, Country\" are not just mere words blathered from the lips of a high-brassed offic...</td>\n",
       "      <td>False</td>\n",
       "    </tr>\n",
       "    <tr>\n",
       "      <th>4</th>\n",
       "      <td>negative</td>\n",
       "      <td>This movie succeeds at being one of the most unique movies you've seen. However this comes from the fact that you can't make heads or tails of this mess. It almost seems as a series of challenges set up to determine whether or not you are willing to walk out of the movie and give up the money you just paid. If you don't want to feel slighted you'll sit through this horrible film and develop a real sense of pity for the actors involved, they've all seen better days, but then you realize they actually got paid quite a bit of money to do this and you'll lose pity for them just like you've alr...</td>\n",
       "      <td>False</td>\n",
       "    </tr>\n",
       "  </tbody>\n",
       "</table>\n",
       "</div>"
      ],
      "text/plain": [
       "      label  ... is_valid\n",
       "0  negative  ...    False\n",
       "1  positive  ...    False\n",
       "2  negative  ...    False\n",
       "3  positive  ...    False\n",
       "4  negative  ...    False\n",
       "\n",
       "[5 rows x 3 columns]"
      ]
     },
     "execution_count": 4,
     "metadata": {
      "tags": []
     },
     "output_type": "execute_result"
    }
   ],
   "source": [
    "imdb.head()"
   ]
  },
  {
   "cell_type": "code",
   "execution_count": null,
   "metadata": {
    "colab": {
     "base_uri": "https://localhost:8080/",
     "height": 17
    },
    "id": "TeMwmtO-ej8e",
    "outputId": "e2bb5a20-6e26-4dcc-f2f5-02c05bacbc22"
   },
   "outputs": [
    {
     "data": {
      "text/html": [],
      "text/plain": [
       "<IPython.core.display.HTML object>"
      ]
     },
     "metadata": {
      "tags": []
     },
     "output_type": "display_data"
    },
    {
     "data": {
      "text/html": [],
      "text/plain": [
       "<IPython.core.display.HTML object>"
      ]
     },
     "metadata": {
      "tags": []
     },
     "output_type": "display_data"
    }
   ],
   "source": [
    "imdb_cls  = TextDataLoaders.from_df(imdb, text_col='text', label_col='label')\n",
    "imdb_lm = TextDataLoaders.from_df(imdb, text_col='text', is_lm=True)"
   ]
  },
  {
   "cell_type": "markdown",
   "metadata": {
    "id": "5JoDJQ3Jej8x"
   },
   "source": [
    "We can compare how similar are the features of both datasets, for example we can check how many words does any review contain compared to how many words do the tweets contain."
   ]
  },
  {
   "cell_type": "code",
   "execution_count": null,
   "metadata": {
    "id": "ZudMWr7-ej8z",
    "outputId": "eabbc71c-d345-4b3f-c472-6742c75f00a8",
    "scrolled": true
   },
   "outputs": [
    {
     "data": {
      "text/plain": [
       "<matplotlib.axes._subplots.AxesSubplot at 0x1a5f4df850>"
      ]
     },
     "execution_count": 263,
     "metadata": {
      "tags": []
     },
     "output_type": "execute_result"
    },
    {
     "data": {
      "image/png": "[encoded data removed]",
      "text/plain": [
       "<Figure size 432x288 with 1 Axes>"
      ]
     },
     "metadata": {
      "needs_background": "light",
      "tags": []
     },
     "output_type": "display_data"
    }
   ],
   "source": [
    "pd.concat([tweets.text[:1000].apply(lambda s: len(s.split())),\n",
    "           imdb.text.apply(lambda s: len(s.split()))],\n",
    "           axis=1,\n",
    "           keys=['tweets', 'imdb']).plot.hist(alpha=0.4, bins = 500, xlim=(0,400)) "
   ]
  },
  {
   "cell_type": "markdown",
   "metadata": {
    "id": "Ap6XXZbIdUGD"
   },
   "source": [
    "So we can check the words per tweet or the words per review:"
   ]
  },
  {
   "cell_type": "code",
   "execution_count": null,
   "metadata": {
    "colab": {
     "base_uri": "https://localhost:8080/"
    },
    "id": "xXSMRSC9Y6WW",
    "outputId": "0951d136-f369-4278-b727-c8d8746cdda9"
   },
   "outputs": [
    {
     "data": {
      "text/plain": [
       "(17.65341530054645, 247.797)"
      ]
     },
     "execution_count": 90,
     "metadata": {
      "tags": []
     },
     "output_type": "execute_result"
    }
   ],
   "source": [
    "tweets.text.apply(lambda s: len(s.split())).mean(), imdb.text.apply(lambda s: len(s.split())).mean()"
   ]
  },
  {
   "cell_type": "markdown",
   "metadata": {
    "id": "k7iwkQQpdbiM"
   },
   "source": [
    "Eventhough the words per tweet are much less, the total amount of words is almost teh same:"
   ]
  },
  {
   "cell_type": "code",
   "execution_count": null,
   "metadata": {
    "colab": {
     "base_uri": "https://localhost:8080/"
    },
    "id": "cjAPNwA7Zl04",
    "outputId": "116e2e4b-e582-4cef-c53d-1f6470ed820b"
   },
   "outputs": [
    {
     "data": {
      "text/plain": [
       "(258446, 247797)"
      ]
     },
     "execution_count": 92,
     "metadata": {
      "tags": []
     },
     "output_type": "execute_result"
    }
   ],
   "source": [
    "tweets.text.apply(lambda s: len(s.split())).sum(), imdb.text.apply(lambda s: len(s.split())).sum()"
   ]
  },
  {
   "cell_type": "code",
   "execution_count": null,
   "metadata": {
    "colab": {
     "base_uri": "https://localhost:8080/"
    },
    "id": "4BW_kcO8Zxc-",
    "outputId": "96de00b1-6319-4cbb-fd28-5b141cfe64d6"
   },
   "outputs": [
    {
     "data": {
      "text/plain": [
       "1.042974692994669"
      ]
     },
     "execution_count": 93,
     "metadata": {
      "tags": []
     },
     "output_type": "execute_result"
    }
   ],
   "source": [
    "258446/247797"
   ]
  },
  {
   "cell_type": "code",
   "execution_count": null,
   "metadata": {
    "id": "hG5PrZ--ej81",
    "outputId": "9197a461-c06f-4499-af26-dfebf76b5155"
   },
   "outputs": [
    {
     "data": {
      "text/plain": [
       "<matplotlib.axes._subplots.AxesSubplot at 0x1a5e2ad5d0>"
      ]
     },
     "execution_count": 258,
     "metadata": {
      "tags": []
     },
     "output_type": "execute_result"
    },
    {
     "data": {
      "image/png": "[encoded data removed]",
      "text/plain": [
       "<Figure size 432x288 with 1 Axes>"
      ]
     },
     "metadata": {
      "needs_background": "light",
      "tags": []
     },
     "output_type": "display_data"
    }
   ],
   "source": [
    "tweets.text.apply(lambda s: len(s.split())).hist(bins=60)"
   ]
  },
  {
   "cell_type": "code",
   "execution_count": null,
   "metadata": {
    "id": "GiTqUpe6ej83",
    "outputId": "72a1134a-a4d9-445c-a2a6-5e685b026935",
    "scrolled": true
   },
   "outputs": [
    {
     "data": {
      "text/plain": [
       "<matplotlib.axes._subplots.AxesSubplot at 0x1a5adefd50>"
      ]
     },
     "execution_count": 254,
     "metadata": {
      "tags": []
     },
     "output_type": "execute_result"
    },
    {
     "data": {
      "image/png": "[encoded data removed]",
      "text/plain": [
       "<Figure size 432x288 with 1 Axes>"
      ]
     },
     "metadata": {
      "needs_background": "light",
      "tags": []
     },
     "output_type": "display_data"
    }
   ],
   "source": [
    "imdb.text.apply(lambda s: len(s.split())).hist(bins=60)"
   ]
  },
  {
   "cell_type": "markdown",
   "metadata": {
    "id": "DPTvDez3ej85"
   },
   "source": [
    "As we can see the reviews are in general much bigger than the tweets, something that is already expected but can influence the performance of the training."
   ]
  },
  {
   "cell_type": "markdown",
   "metadata": {
    "id": "fiT3AlVWej9H"
   },
   "source": [
    "Another thing to analyze is the vocabs, is the vocab from `imdb` much bigger than from the `tweets`?"
   ]
  },
  {
   "cell_type": "code",
   "execution_count": null,
   "metadata": {
    "id": "J-w_Rt7iej9H",
    "outputId": "ef788386-59b1-430e-c86b-fda4d3e54744"
   },
   "outputs": [
    {
     "data": {
      "text/plain": [
       "(4688, 7080)"
      ]
     },
     "execution_count": 265,
     "metadata": {
      "tags": []
     },
     "output_type": "execute_result"
    }
   ],
   "source": [
    "len(lm_dls.vocab), len(imdb_lm.vocab)"
   ]
  },
  {
   "cell_type": "markdown",
   "metadata": {
    "id": "BJv9-rCPej9N"
   },
   "source": [
    "As we can see the vocab of `imdb` is almost the double as the vocab for the `tweets`, therefore it could be that the language model for the `imdb` performs better."
   ]
  },
  {
   "cell_type": "markdown",
   "metadata": {
    "id": "eFWMWas2ej9N"
   },
   "source": [
    "In order to simplify things, I will just define a function that does everything we have done so far:"
   ]
  },
  {
   "cell_type": "code",
   "execution_count": null,
   "metadata": {
    "id": "Iwoyoaz-ej9N"
   },
   "outputs": [],
   "source": [
    "def complete_training(lm_dls, cl_dls, cbs=None):\n",
    "\n",
    "    if cbs==None:\n",
    "        cbs = [\n",
    "              ShowGraphCallback,\n",
    "              ActivationStats,\n",
    "              SaveModelCallback\n",
    "            ]\n",
    "\n",
    "    learner = language_model_learner(lm_dls, AWD_LSTM, cbs = cbs,  metrics=[accuracy])\n",
    "    # TRY CHANGING drop_mult, to see if there is an effect in training small datasets\n",
    "    learn = text_classifier_learner(cl_dls, AWD_LSTM, drop_mult=0.5, cbs=cbs, metrics=accuracy).to_fp16()\n",
    "\n",
    "    # ----  TRAIN THE LANGUAGE MODEL  ----\n",
    "    learner.fit_one_cycle(10, 2e-2)\n",
    "    # learner.save('language_model')\n",
    "    learner.save_encoder('finetuned')\n",
    "\n",
    "    # ----  TRAIN THE CLASSIFIER  ----\n",
    "    learn = learn.load_encoder('finetuned')\n",
    "    learn.fit_one_cycle(12,  2e-3)\n",
    "\n",
    "    # REFINING 1\n",
    "    learn.freeze_to(-2)\n",
    "    learn.fit_one_cycle(5, slice(1e-2/(2.6**4),1e-2))\n",
    "\n",
    "    # REFINING 2\n",
    "    learn.freeze_to(-3)\n",
    "    learn.fit_one_cycle(3, slice(5e-3/(2.6**4),5e-3))\n",
    "\n",
    "    # REFINING 3\n",
    "    learn.unfreeze()\n",
    "    learn.fit_one_cycle(2, slice(1e-3/(2.6**4),1e-3))\n",
    "\n",
    "    learner.remove_cb(ShowGraphCallback)\n",
    "    learn.remove_cb(ShowGraphCallback)\n",
    "\n",
    "    return learner, learn"
   ]
  },
  {
   "cell_type": "code",
   "execution_count": null,
   "metadata": {
    "id": "W1K5jCcDej9P"
   },
   "outputs": [],
   "source": [
    "learner_imdb, learn_imdb = complete_training(imdb_lm, imdb_cls)"
   ]
  }
 ],
 "metadata": {
  "accelerator": "GPU",
  "colab": {
   "collapsed_sections": [],
   "name": "ULMFit_final.ipynb",
   "provenance": [],
   "toc_visible": true
  },
  "kernelspec": {
   "display_name": "Python 3",
   "language": "python",
   "name": "python3"
  },
  "language_info": {
   "codemirror_mode": {
    "name": "ipython",
    "version": 3
   },
   "file_extension": ".py",
   "mimetype": "text/x-python",
   "name": "python",
   "nbconvert_exporter": "python",
   "pygments_lexer": "ipython3",
   "version": "3.8.5"
  }
 },
 "nbformat": 4,
 "nbformat_minor": 4
}
